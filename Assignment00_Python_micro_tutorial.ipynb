{
 "cells": [
  {
   "cell_type": "markdown",
   "metadata": {},
   "source": [
    "# Python 3 micro guide - presenting some useful ideas and syntax\n",
    "\n",
    "The RCS laboratories will use the Python 3 language. You are already familiar with many programming concepts, these next exercises serve as a familiarization  with the syntax and some ideas for shortening the time spent on coding while solving assignments.\n",
    "\n",
    "## Variables\n",
    "Python is completely object oriented, and not \"statically typed\". You do not need to declare variables before using them, or declare their type."
   ]
  },
  {
   "cell_type": "code",
   "execution_count": 72,
   "metadata": {},
   "outputs": [
    {
     "name": "stdout",
     "output_type": "stream",
     "text": [
      "myint: 7 , myfloat: 7.0 , type changed: 7.0\n",
      "wow, that's a string in Python\n",
      "3 b\n"
     ]
    }
   ],
   "source": [
    "myint = 7\n",
    "myfloat = 7.0\n",
    "print(\"myint:\", myint, \", myfloat:\", myfloat, \", type changed:\", float(myint))\n",
    "\n",
    "mystring = \"wow, that's a string\"\n",
    "print(mystring + \" in Python\")\n",
    "\n",
    "# assignments can be grouped\n",
    "a, b = 3, \"b\"\n",
    "print(a,b)"
   ]
  },
  {
   "cell_type": "markdown",
   "metadata": {},
   "source": [
    "## Libraries\n",
    "\n",
    "One characteristic of Python is its variety of open-source libraries (modules) that eliminate the need of coding from scratch. Whenever you need a new library, it is required you pip install/conda install it in your environment and later import it in code. If you wish to import a library that is not installed, the error stack trace will hint that specific module is not found. Always look at the error stack trace first.\n",
    "\n",
    "Syntax may be as such:"
   ]
  },
  {
   "cell_type": "code",
   "execution_count": 73,
   "metadata": {},
   "outputs": [
    {
     "ename": "SyntaxError",
     "evalue": "invalid syntax (<ipython-input-73-a08bc7438c0e>, line 14)",
     "output_type": "error",
     "traceback": [
      "\u001b[1;36m  File \u001b[1;32m\"<ipython-input-73-a08bc7438c0e>\"\u001b[1;36m, line \u001b[1;32m14\u001b[0m\n\u001b[1;33m    l.method_from_l(args*)\u001b[0m\n\u001b[1;37m                         ^\u001b[0m\n\u001b[1;31mSyntaxError\u001b[0m\u001b[1;31m:\u001b[0m invalid syntax\n"
     ]
    }
   ],
   "source": [
    "# the next lines use just some namespaces\n",
    "\n",
    "import lib\n",
    "from lib import * # import all functions from specific library\n",
    "from lib import method1, method2 # import only the needed methods\n",
    "from file import method1, method2 # if you have a file.py file that has multiple methods in it, you can also import them\n",
    "import longnamelibrary as l # you have the possibility to rename a library for later use in code\n",
    "import lib.longnamemethod as lm # you can rename specific methods as well\n",
    "\n",
    "# after importing desired libraries, you can use them in code\n",
    "# the dot ('.') serves as a way to access attributes and methods (with or without arguments) from that library or file\n",
    "\n",
    "lib.methods_from_lib()\n",
    "l.method_from_l(args*)\n",
    "var = method1(args*)\n",
    "var1 = method1.attribute\n",
    "var2, var3 = method2.nestedmethod1(args*) # if a method returns several outputs, you can declare them as such\n",
    "var4, var5 = method1.attribute, method2,attribute # similar, declaration of several variables can be grouped\n",
    "\n",
    "# in order to see the outputs, you can use the print function:\n",
    "print(\"arg1\",arg1,\"arg2\", arg2)"
   ]
  },
  {
   "cell_type": "markdown",
   "metadata": {},
   "source": [
    "Now try to apply in the next cell the aforementioned code, without errors. Some libraries that you will often use are numpy, matplotlib, math. Some of their functions are as in the next figure. \n",
    "\n",
    "\n",
    "\n",
    "<center>\n",
    "    <figure>\n",
    "    <img src=\"../artwork/tutorial/all.JPG\" width=90%/>\n",
    "    <figcaption><center>Figure 1: Libraries trees</center></figcaption>\n",
    "</figure>\n",
    "</center>\n",
    "\n",
    "\n",
    "    \n",
    "    a. Create 2 variables, one an identity matrix of 2x2, the other a random matrix of 2x2, multiply them and invert the result.\n",
    "    b. Check if the math.cos method gives the expected results. Create an array with \"t = np.arange(0.0, 2.0, 0.01)\". Both math and numpy have the cos and sin methods. Try to find the difference between them.\n",
    "    c. Using the t array as time coordinate, create a sine wave array and plot it.\n"
   ]
  },
  {
   "cell_type": "code",
   "execution_count": 85,
   "metadata": {},
   "outputs": [
    {
     "name": "stdout",
     "output_type": "stream",
     "text": [
      "[[0.7930667  0.05372481]\n",
      " [0.8408276  0.28768917]]\n",
      "1.0\n",
      "0.15425144988758405\n",
      "-0.9524129804151563\n",
      "-0.4480736161291701\n",
      "-0.5984600690578581\n",
      "Cosine and sine values for t using numpy library: \n",
      "[0.         0.00999983 0.01999867 0.0299955  0.03998933 0.04997917\n",
      " 0.05996401 0.06994285 0.07991469 0.08987855 0.09983342 0.1097783\n",
      " 0.11971221 0.12963414 0.13954311 0.14943813 0.15931821 0.16918235\n",
      " 0.17902957 0.18885889 0.19866933 0.2084599  0.21822962 0.22797752\n",
      " 0.23770263 0.24740396 0.25708055 0.26673144 0.27635565 0.28595223\n",
      " 0.29552021 0.30505864 0.31456656 0.32404303 0.33348709 0.34289781\n",
      " 0.35227423 0.36161543 0.37092047 0.38018842 0.38941834 0.39860933\n",
      " 0.40776045 0.4168708  0.42593947 0.43496553 0.44394811 0.45288629\n",
      " 0.46177918 0.47062589 0.47942554 0.48817725 0.49688014 0.50553334\n",
      " 0.51413599 0.52268723 0.5311862  0.53963205 0.54802394 0.55636102\n",
      " 0.56464247 0.57286746 0.58103516 0.58914476 0.59719544 0.60518641\n",
      " 0.61311685 0.62098599 0.62879302 0.63653718 0.64421769 0.65183377\n",
      " 0.65938467 0.66686964 0.67428791 0.68163876 0.68892145 0.69613524\n",
      " 0.70327942 0.71035327 0.71735609 0.72428717 0.73114583 0.73793137\n",
      " 0.74464312 0.75128041 0.75784256 0.76432894 0.77073888 0.77707175\n",
      " 0.78332691 0.78950374 0.79560162 0.80161994 0.8075581  0.8134155\n",
      " 0.81919157 0.82488571 0.83049737 0.83602598 0.84147098 0.84683184\n",
      " 0.85210802 0.85729899 0.86240423 0.86742323 0.87235548 0.8772005\n",
      " 0.88195781 0.88662691 0.89120736 0.89569869 0.90010044 0.90441219\n",
      " 0.9086335  0.91276394 0.91680311 0.9207506  0.92460601 0.92836897\n",
      " 0.93203909 0.935616   0.93909936 0.9424888  0.945784   0.94898462\n",
      " 0.95209034 0.95510086 0.95801586 0.96083506 0.96355819 0.96618495\n",
      " 0.9687151  0.97114838 0.97348454 0.97572336 0.9778646  0.97990806\n",
      " 0.98185353 0.98370081 0.98544973 0.9871001  0.98865176 0.99010456\n",
      " 0.99145835 0.99271299 0.99386836 0.99492435 0.99588084 0.99673775\n",
      " 0.99749499 0.99815247 0.99871014 0.99916795 0.99952583 0.99978376\n",
      " 0.99994172 0.99999968 0.99995765 0.99981562 0.9995736  0.99923163\n",
      " 0.99878974 0.99824797 0.99760638 0.99686503 0.99602399 0.99508335\n",
      " 0.9940432  0.99290365 0.99166481 0.9903268  0.98888977 0.98735384\n",
      " 0.98571918 0.98398595 0.98215432 0.98022447 0.97819661 0.97607092\n",
      " 0.97384763 0.97152696 0.96910913 0.96659439 0.963983   0.9612752\n",
      " 0.95847128 0.95557152 0.95257619 0.94948561 0.94630009 0.94301993\n",
      " 0.93964547 0.93617705 0.93261501 0.92895972 0.92521152 0.92137081\n",
      " 0.91743796 0.91341336]\n",
      "[ 1.00000000e+00  9.99950000e-01  9.99800007e-01  9.99550034e-01\n",
      "  9.99200107e-01  9.98750260e-01  9.98200540e-01  9.97551000e-01\n",
      "  9.96801706e-01  9.95952733e-01  9.95004165e-01  9.93956098e-01\n",
      "  9.92808636e-01  9.91561894e-01  9.90215996e-01  9.88771078e-01\n",
      "  9.87227283e-01  9.85584767e-01  9.83843693e-01  9.82004235e-01\n",
      "  9.80066578e-01  9.78030915e-01  9.75897449e-01  9.73666395e-01\n",
      "  9.71337975e-01  9.68912422e-01  9.66389978e-01  9.63770896e-01\n",
      "  9.61055438e-01  9.58243876e-01  9.55336489e-01  9.52333570e-01\n",
      "  9.49235418e-01  9.46042344e-01  9.42754666e-01  9.39372713e-01\n",
      "  9.35896824e-01  9.32327346e-01  9.28664636e-01  9.24909060e-01\n",
      "  9.21060994e-01  9.17120823e-01  9.13088940e-01  9.08965750e-01\n",
      "  9.04751663e-01  9.00447102e-01  8.96052498e-01  8.91568288e-01\n",
      "  8.86994923e-01  8.82332859e-01  8.77582562e-01  8.72744508e-01\n",
      "  8.67819180e-01  8.62807071e-01  8.57708681e-01  8.52524522e-01\n",
      "  8.47255111e-01  8.41900975e-01  8.36462650e-01  8.30940679e-01\n",
      "  8.25335615e-01  8.19648018e-01  8.13878457e-01  8.08027508e-01\n",
      "  8.02095758e-01  7.96083799e-01  7.89992231e-01  7.83821666e-01\n",
      "  7.77572719e-01  7.71246015e-01  7.64842187e-01  7.58361876e-01\n",
      "  7.51805729e-01  7.45174402e-01  7.38468559e-01  7.31688869e-01\n",
      "  7.24836011e-01  7.17910670e-01  7.10913538e-01  7.03845316e-01\n",
      "  6.96706709e-01  6.89498433e-01  6.82221207e-01  6.74875760e-01\n",
      "  6.67462826e-01  6.59983146e-01  6.52437468e-01  6.44826547e-01\n",
      "  6.37151144e-01  6.29412027e-01  6.21609968e-01  6.13745749e-01\n",
      "  6.05820157e-01  5.97833982e-01  5.89788025e-01  5.81683089e-01\n",
      "  5.73519986e-01  5.65299531e-01  5.57022547e-01  5.48689861e-01\n",
      "  5.40302306e-01  5.31860721e-01  5.23365951e-01  5.14818845e-01\n",
      "  5.06220257e-01  4.97571048e-01  4.88872082e-01  4.80124229e-01\n",
      "  4.71328364e-01  4.62485367e-01  4.53596121e-01  4.44661517e-01\n",
      "  4.35682446e-01  4.26659808e-01  4.17594504e-01  4.08487441e-01\n",
      "  3.99339529e-01  3.90151684e-01  3.80924824e-01  3.71659872e-01\n",
      "  3.62357754e-01  3.53019401e-01  3.43645746e-01  3.34237727e-01\n",
      "  3.24796284e-01  3.15322362e-01  3.05816908e-01  2.96280873e-01\n",
      "  2.86715210e-01  2.77120875e-01  2.67498829e-01  2.57850033e-01\n",
      "  2.48175452e-01  2.38476053e-01  2.28752808e-01  2.19006687e-01\n",
      "  2.09238666e-01  1.99449721e-01  1.89640831e-01  1.79812978e-01\n",
      "  1.69967143e-01  1.60104312e-01  1.50225470e-01  1.40331606e-01\n",
      "  1.30423709e-01  1.20502769e-01  1.10569780e-01  1.00625733e-01\n",
      "  9.06716245e-02  8.07084485e-02  7.07372017e-02  6.07588812e-02\n",
      "  5.07744849e-02  4.07850112e-02  3.07914591e-02  2.07948278e-02\n",
      "  1.07961171e-02  7.96326711e-04 -9.20354327e-03 -1.92024929e-02\n",
      " -2.91995223e-02 -3.91936318e-02 -4.91838219e-02 -5.91690937e-02\n",
      " -6.91484487e-02 -7.91208888e-02 -8.90854169e-02 -9.90410366e-02\n",
      " -1.08986752e-01 -1.18921569e-01 -1.28844494e-01 -1.38754535e-01\n",
      " -1.48650700e-01 -1.58532001e-01 -1.68397448e-01 -1.78246056e-01\n",
      " -1.88076839e-01 -1.97888815e-01 -2.07681002e-01 -2.17452421e-01\n",
      " -2.27202095e-01 -2.36929049e-01 -2.46632310e-01 -2.56310908e-01\n",
      " -2.65963876e-01 -2.75590247e-01 -2.85189059e-01 -2.94759353e-01\n",
      " -3.04300171e-01 -3.13810559e-01 -3.23289567e-01 -3.32736246e-01\n",
      " -3.42149651e-01 -3.51528842e-01 -3.60872880e-01 -3.70180831e-01\n",
      " -3.79451765e-01 -3.88684753e-01 -3.97878874e-01 -4.07033207e-01]\n",
      "Cosine and sine values for t using math library: \n",
      "0.009999833334166664\n",
      "0.9999500004166653\n"
     ]
    },
    {
     "data": {
      "text/plain": [
       "[<matplotlib.lines.Line2D at 0x1d46330e6a0>]"
      ]
     },
     "execution_count": 85,
     "metadata": {},
     "output_type": "execute_result"
    },
    {
     "data": {
      "image/png": "[encoded data removed]",
      "text/plain": [
       "<Figure size 432x288 with 1 Axes>"
      ]
     },
     "metadata": {
      "needs_background": "light"
     },
     "output_type": "display_data"
    }
   ],
   "source": [
    "# cell to write in\n",
    "\n",
    "import numpy as np\n",
    "import math\n",
    "import matplotlib.pyplot as plotting\n",
    "\n",
    "#a\n",
    "firstMatrix = np.identity(2)\n",
    "secondMatrix = np.random.rand(2,2)\n",
    "\n",
    "multipliedMatrix = np.matmul(firstMatrix, secondMatrix)\n",
    "print(multipliedMatrix)\n",
    "\n",
    "#b\n",
    "print(math.cos(0))\n",
    "print(math.cos(30))\n",
    "print(math.cos(60))\n",
    "print(math.cos(90))\n",
    "print(math.cos(180)) # it doesn't give the expected results, because it works in radians\n",
    "\n",
    "t = np.arange(0.0, 2.0, 0.01)\n",
    "print(\"Cosine and sine values for t using numpy library: \")\n",
    "print(np.sin(t))\n",
    "print(np.cos(t))\n",
    "\n",
    "print(\"Cosine and sine values for t using math library: \")\n",
    "print(math.sin(t[1]))\n",
    "print(math.cos(t[1]))\n",
    "\n",
    "# the difference between them is that numpy returns the values in scientific notation and can take an array,\n",
    "# while math can only take scalars and doesn't return the values in scientific notation\n",
    "\n",
    "#c\n",
    "sinus = np.sin(t)\n",
    "plotting.plot(sinus, t)"
   ]
  },
  {
   "cell_type": "markdown",
   "metadata": {},
   "source": [
    "## Lists vs arrays"
   ]
  },
  {
   "cell_type": "code",
   "execution_count": 26,
   "metadata": {},
   "outputs": [],
   "source": [
    "#We will often work with numpy arrays, which are defined as such:\n",
    "import numpy as np \n",
    "\n",
    "na = np.array([1,2,3])\n",
    "# or\n",
    "na2 = np.array([[1,2,3]])\n"
   ]
  },
  {
   "cell_type": "markdown",
   "metadata": {},
   "source": [
    "The difference between them lies in the dimensions of the arrays. \n",
    "Some functions that may come in handy are : $ x.shape, vars(x), type(x)$. \n",
    "Try to print the shape of na and na2 and see the difference.\n"
   ]
  },
  {
   "cell_type": "code",
   "execution_count": 29,
   "metadata": {},
   "outputs": [
    {
     "name": "stdout",
     "output_type": "stream",
     "text": [
      "(3,)\n",
      "(1, 3)\n"
     ]
    }
   ],
   "source": [
    "# cell to write in\n",
    "def shape_printer(na, na2):\n",
    "    print(np.shape(na))\n",
    "    print(np.shape(na2))\n",
    "    \n",
    "shape_printer(na, na2)\n",
    "\n",
    "# the difference is that the na2 is defined as an array and na is defined as a list "
   ]
  },
  {
   "cell_type": "markdown",
   "metadata": {},
   "source": [
    "If we want to define a matrix of eg. 3x2, one way to do it is using the np.array with the desired values. Numpy has also a np.matrix type that can be used to define matrices. The np.matrix offers transpose and inverse methods as: $m.T$, $m.I$. If desired, you can change from an np.array type into a np.matrix type with the np.asmatrix() method. Same goes backwards with np.asarray() method. If needed, you can also reshape arrays.\n",
    "\n",
    "Another handy method is the $concatenate()$ one. \n",
    "\n",
    "Defining a variable just as: $var = [a,b,c]$ will create a list. A list can contain any type and any number of types inside it. It can also be initially declared empty and later on filled with append(), extend() etc or directly with the known elements. Available methods are similar to other languages. "
   ]
  },
  {
   "cell_type": "code",
   "execution_count": 33,
   "metadata": {},
   "outputs": [
    {
     "name": "stdout",
     "output_type": "stream",
     "text": [
      "m1=\n",
      " [[1 2]\n",
      " [3 4]\n",
      " [5 6]] \n",
      " m1 type: <class 'numpy.ndarray'> \n",
      " m1 shape (3, 2)\n",
      "a1=\n",
      " [1 2 3 4 5 6] \n",
      " a1 type: <class 'numpy.ndarray'> \n",
      " a1 shape (6,)\n",
      "a2=\n",
      " [[1 2]\n",
      " [3 4]\n",
      " [5 6]] \n",
      " a2 type: <class 'numpy.ndarray'> \n",
      " a2 shape (3, 2)\n",
      "m2=\n",
      " [[1 2]\n",
      " [3 4]\n",
      " [5 6]] \n",
      " m2 type: <class 'numpy.matrix'> \n",
      " m2 shape (3, 2)\n",
      "m3=\n",
      " [[1 2]\n",
      " [3 4]\n",
      " [5 6]] \n",
      " m3 type: <class 'numpy.matrix'> \n",
      " m3 shape (3, 2)\n",
      "m4=\n",
      " [[1 2 3 4 5 6]] \n",
      " m4 type: <class 'numpy.matrix'> \n",
      " m4 shape (1, 6)\n",
      "[[1 2]\n",
      " [3 4]\n",
      " [5 6]]\n",
      "[[1 2 5]\n",
      " [3 4 6]]\n",
      "[1 2 3 4 5 6]\n"
     ]
    }
   ],
   "source": [
    "import numpy as np\n",
    "\n",
    "m1 = np.array([[1,2],[3,4],[5,6]])\n",
    "a1 = np.array([1,2,3,4,5,6])\n",
    "a2 = a1.reshape(3,2)\n",
    "\n",
    "m2 = np.matrix('1 2; 3 4; 5 6')  #both these commands return the same output\n",
    "m3 = np.matrix([[1,2],[3,4],[5,6]])\n",
    "\n",
    "m4 = np.asmatrix(a1)\n",
    "\n",
    "print('m1=\\n',m1,'\\n m1 type:', type(m1), '\\n m1 shape', m1.shape)\n",
    "print('a1=\\n',a1,'\\n a1 type:', type(a1), '\\n a1 shape', a1.shape)\n",
    "print('a2=\\n',a2,'\\n a2 type:', type(a2), '\\n a2 shape', a2.shape)\n",
    "print('m2=\\n',m2,'\\n m2 type:', type(m2), '\\n m2 shape', m2.shape)\n",
    "print('m3=\\n',m3,'\\n m3 type:', type(m3), '\\n m3 shape', m3.shape)\n",
    "print('m4=\\n',m4,'\\n m4 type:', type(m4), '\\n m4 shape', m4.shape)\n",
    "\n",
    "\n",
    "#examples of concatenate over first or second axis for different sized variables\n",
    "a = np.array([[1, 2], [3, 4]])\n",
    "b = np.array([[5, 6]])\n",
    "\n",
    "print(np.concatenate((a, b), axis=0))\n",
    "print(np.concatenate((a, b.T), axis=1))\n",
    "print(np.concatenate((a, b), axis=None))\n"
   ]
  },
  {
   "cell_type": "code",
   "execution_count": 35,
   "metadata": {},
   "outputs": [
    {
     "ename": "NameError",
     "evalue": "name 'i' is not defined",
     "output_type": "error",
     "traceback": [
      "\u001b[1;31m---------------------------------------------------------------------------\u001b[0m",
      "\u001b[1;31mNameError\u001b[0m                                 Traceback (most recent call last)",
      "\u001b[1;32m<ipython-input-35-5ae20c9fd747>\u001b[0m in \u001b[0;36m<module>\u001b[1;34m\u001b[0m\n\u001b[0;32m      2\u001b[0m \u001b[0mm\u001b[0m \u001b[1;33m=\u001b[0m \u001b[0mnp\u001b[0m\u001b[1;33m.\u001b[0m\u001b[0mmatrix\u001b[0m\u001b[1;33m(\u001b[0m\u001b[1;34m'1 2; 3 4; 5 6'\u001b[0m\u001b[1;33m)\u001b[0m\u001b[1;33m\u001b[0m\u001b[1;33m\u001b[0m\u001b[0m\n\u001b[0;32m      3\u001b[0m \u001b[1;33m\u001b[0m\u001b[0m\n\u001b[1;32m----> 4\u001b[1;33m \u001b[0ml\u001b[0m \u001b[1;33m=\u001b[0m \u001b[0mm\u001b[0m\u001b[1;33m[\u001b[0m\u001b[0mi\u001b[0m\u001b[1;33m,\u001b[0m\u001b[1;33m:\u001b[0m\u001b[1;33m]\u001b[0m\u001b[1;33m\u001b[0m\u001b[1;33m\u001b[0m\u001b[0m\n\u001b[0m\u001b[0;32m      5\u001b[0m \u001b[0mc\u001b[0m \u001b[1;33m=\u001b[0m \u001b[0mm\u001b[0m\u001b[1;33m[\u001b[0m\u001b[1;33m:\u001b[0m\u001b[1;33m,\u001b[0m\u001b[0mj\u001b[0m\u001b[1;33m]\u001b[0m\u001b[1;33m\u001b[0m\u001b[1;33m\u001b[0m\u001b[0m\n\u001b[0;32m      6\u001b[0m \u001b[0me\u001b[0m \u001b[1;33m=\u001b[0m \u001b[0mm\u001b[0m\u001b[1;33m[\u001b[0m\u001b[0mi\u001b[0m\u001b[1;33m,\u001b[0m\u001b[0mj\u001b[0m\u001b[1;33m]\u001b[0m\u001b[1;33m\u001b[0m\u001b[1;33m\u001b[0m\u001b[0m\n",
      "\u001b[1;31mNameError\u001b[0m: name 'i' is not defined"
     ]
    }
   ],
   "source": [
    "# if you need to take columns, lines, elements from an array/matrix\n",
    "l = m[i,:]\n",
    "c = m[:,j]\n",
    "e = m[i,j]"
   ]
  },
  {
   "cell_type": "markdown",
   "metadata": {},
   "source": [
    "\n"
   ]
  },
  {
   "cell_type": "markdown",
   "metadata": {},
   "source": [
    "    a. Declare a column matrix of integers from 1 to 8. Use this matrix or create a new variable with the same numbers, but with 2 columns and 4 lines. Define a variable c as the last column of this matrix. Define a second variable with the first 2 elements from c and sum them up in a new variable.\n",
    "    b. Define a variable that would have shape as ()\n",
    "    c. Define a and b variables as np.array matrices of 2x2. Define a1 and b1 as np.matrix variables with the same elements as a and b. Use '*','@' and np.matmul(A,B) product operators for each of the pairs and observe the differences.\n",
    "    d. Create a list of 3 integers and 3 np.matrix variables. Add the first element of the list to all the elements of the first matrix of the list. How would you check the shape/size of the list? Raise the first element of the list to the power of the second element, using the '**' operator."
   ]
  },
  {
   "cell_type": "code",
   "execution_count": 109,
   "metadata": {},
   "outputs": [
    {
     "name": "stdout",
     "output_type": "stream",
     "text": [
      "[[1]\n",
      " [2]\n",
      " [3]\n",
      " [4]\n",
      " [5]\n",
      " [6]\n",
      " [7]\n",
      " [8]]\n",
      "[[1 2 3 4]\n",
      " [5 6 7 8]]\n",
      "[4 8]\n",
      "12\n",
      "(0,)\n",
      "[[19 22]\n",
      " [43 50]]\n",
      "[[19 22]\n",
      " [43 50]]\n",
      "[[19 22]\n",
      " [43 50]]\n",
      "[1, 2, 3, matrix([[1, 2],\n",
      "        [3, 4]]), matrix([[5, 6],\n",
      "        [7, 8]]), matrix([[ 9, 10],\n",
      "        [11, 12]])]\n",
      "[1, 2, 3, matrix([[2, 3],\n",
      "        [4, 5]]), matrix([[5, 6],\n",
      "        [7, 8]]), matrix([[ 9, 10],\n",
      "        [11, 12]])]\n",
      "6\n",
      "[1, 2, 3, matrix([[2, 3],\n",
      "        [4, 5]]), matrix([[5, 6],\n",
      "        [7, 8]]), matrix([[ 9, 10],\n",
      "        [11, 12]])]\n"
     ]
    }
   ],
   "source": [
    "import numpy as np\n",
    "\n",
    "#a\n",
    "a = np.matrix('1; 2; 3; 4; 5; 6; 7; 8')\n",
    "print(a)\n",
    "\n",
    "b = np.array(a).reshape(2,4)\n",
    "print(b)\n",
    "\n",
    "c = b[:,3]\n",
    "print(c)\n",
    "\n",
    "d = sum(c)\n",
    "print(d)\n",
    "\n",
    "#b\n",
    "e = ([])\n",
    "print(np.shape(e))\n",
    "\n",
    "#c\n",
    "a = np.array('1 2; 3 4')\n",
    "b = np.array('5 6; 7 8')\n",
    "# print(np.matmul(a, b))\n",
    "\n",
    "a1 = np.matrix('1 2; 3 4')\n",
    "b1 = np.matrix('5 6; 7 8')\n",
    "\n",
    "print(np.matmul(a1, b1))\n",
    "\n",
    "print(a1 * b1)\n",
    "print(a1 @ b1)\n",
    "\n",
    "#d\n",
    "a = np.matrix('1 2; 3 4')\n",
    "b = np.matrix('5 6; 7 8')\n",
    "c = np.matrix('9 10; 11 12')\n",
    "\n",
    "l = ([1, 2, 3])\n",
    "\n",
    "l.append(a)\n",
    "l.append(b)\n",
    "l.append(c)\n",
    "\n",
    "print(l)\n",
    "\n",
    "l[3] += l[0]\n",
    "print(l)\n",
    "\n",
    "print(len(l))\n",
    "\n",
    "l[0] = l[0] ** l[1]\n",
    "print(l)"
   ]
  },
  {
   "cell_type": "markdown",
   "metadata": {},
   "source": [
    "# Statements\n",
    "\n",
    "Whenever you want to use statements (for, if, etc) or to define your own methods, keep in mind to not forget the colon before the instructions and the indentation with \"tab\" (or 4 spaces) for the scope of the code, instead of curly brackets. Notice that code blocks do not need any termination."
   ]
  },
  {
   "cell_type": "code",
   "execution_count": 71,
   "metadata": {},
   "outputs": [
    {
     "ename": "NameError",
     "evalue": "name 'cond1' is not defined",
     "output_type": "error",
     "traceback": [
      "\u001b[1;31m---------------------------------------------------------------------------\u001b[0m",
      "\u001b[1;31mNameError\u001b[0m                                 Traceback (most recent call last)",
      "\u001b[1;32m<ipython-input-71-2c5087429c71>\u001b[0m in \u001b[0;36m<module>\u001b[1;34m\u001b[0m\n\u001b[0;32m      2\u001b[0m     \u001b[0minstructions\u001b[0m\u001b[1;33m\u001b[0m\u001b[1;33m\u001b[0m\u001b[0m\n\u001b[0;32m      3\u001b[0m \u001b[1;33m\u001b[0m\u001b[0m\n\u001b[1;32m----> 4\u001b[1;33m \u001b[1;32mif\u001b[0m \u001b[0mcond1\u001b[0m\u001b[1;33m:\u001b[0m\u001b[1;33m\u001b[0m\u001b[1;33m\u001b[0m\u001b[0m\n\u001b[0m\u001b[0;32m      5\u001b[0m \u001b[1;33m\u001b[0m\u001b[0m\n\u001b[0;32m      6\u001b[0m     \u001b[1;32mif\u001b[0m \u001b[1;33m(\u001b[0m\u001b[1;32mnot\u001b[0m \u001b[0mcond2\u001b[0m\u001b[1;33m)\u001b[0m\u001b[1;33m:\u001b[0m\u001b[1;33m\u001b[0m\u001b[1;33m\u001b[0m\u001b[0m\n",
      "\u001b[1;31mNameError\u001b[0m: name 'cond1' is not defined"
     ]
    }
   ],
   "source": [
    "def my_function():\n",
    "    instructions\n",
    "\n",
    "if cond1:\n",
    "    \n",
    "    if (not cond2):\n",
    "        instr_inner\n",
    "    instr_outer\n",
    "    \n",
    "else:\n",
    "    instr_else\n",
    "        \n",
    "        \n",
    "for element in list:\n",
    "    instr_for\n",
    "    \n",
    "# you can use range(n) if integer iteration is needed, *note: range(n) takes values from 0 to n-1\n",
    "for x in range(n):\n",
    "    instr_range\n",
    "    \n",
    "    \n",
    "# *if needed, when working with lists in combination with for loops:\n",
    "[list.method() for i in range(0,n)]\n",
    "\n"
   ]
  },
  {
   "cell_type": "markdown",
   "metadata": {},
   "source": [
    "    a. Define a list of integers from 1 to 20 and iterate through it to half all the prime numbers.\n"
   ]
  },
  {
   "cell_type": "code",
   "execution_count": 69,
   "metadata": {},
   "outputs": [
    {
     "name": "stdout",
     "output_type": "stream",
     "text": [
      "[0.5, 1.0, 1.5, 2.0, 2.5, 6, 3.5, 8, 9, 10, 5.5, 12, 6.5, 14, 15, 16, 8.5, 18, 9.5, 20]\n"
     ]
    }
   ],
   "source": [
    "lst = []\n",
    "\n",
    "def is_prime(nr):\n",
    "    for i in range (2, int(nr / 2)):\n",
    "        if (nr > 1 and nr % i == 0):\n",
    "            return False;\n",
    "    \n",
    "    return True;\n",
    "\n",
    "for i in range(1,21):\n",
    "    if (is_prime(i)):\n",
    "        lst.append(i/2)\n",
    "    else:\n",
    "        lst.append(i)\n",
    "    \n",
    "print(lst[:])"
   ]
  },
  {
   "cell_type": "markdown",
   "metadata": {},
   "source": [
    "##  Debugging\n",
    "\n",
    "For most libraries or methods used, you have the option to look at the Python documentation by using the [.__ doc __](https://blog.finxter.com/what-is-__-doc-__-in-python/) command."
   ]
  },
  {
   "cell_type": "code",
   "execution_count": 70,
   "metadata": {},
   "outputs": [
    {
     "name": "stdout",
     "output_type": "stream",
     "text": [
      "\n",
      "NumPy\n",
      "=====\n",
      "\n",
      "Provides\n",
      "  1. An array object of arbitrary homogeneous items\n",
      "  2. Fast mathematical operations over arrays\n",
      "  3. Linear Algebra, Fourier Transforms, Random Number Generation\n",
      "\n",
      "How to use the documentation\n",
      "----------------------------\n",
      "Documentation is available in two forms: docstrings provided\n",
      "with the code, and a loose standing reference guide, available from\n",
      "`the NumPy homepage <https://www.scipy.org>`_.\n",
      "\n",
      "We recommend exploring the docstrings using\n",
      "`IPython <https://ipython.org>`_, an advanced Python shell with\n",
      "TAB-completion and introspection capabilities.  See below for further\n",
      "instructions.\n",
      "\n",
      "The docstring examples assume that `numpy` has been imported as `np`::\n",
      "\n",
      "  >>> import numpy as np\n",
      "\n",
      "Code snippets are indicated by three greater-than signs::\n",
      "\n",
      "  >>> x = 42\n",
      "  >>> x = x + 1\n",
      "\n",
      "Use the built-in ``help`` function to view a function's docstring::\n",
      "\n",
      "  >>> help(np.sort)\n",
      "  ... # doctest: +SKIP\n",
      "\n",
      "For some objects, ``np.info(obj)`` may provide additional help.  This is\n",
      "particularly true if you see the line \"Help on ufunc object:\" at the top\n",
      "of the help() page.  Ufuncs are implemented in C, not Python, for speed.\n",
      "The native Python help() does not know how to view their help, but our\n",
      "np.info() function does.\n",
      "\n",
      "To search for documents containing a keyword, do::\n",
      "\n",
      "  >>> np.lookfor('keyword')\n",
      "  ... # doctest: +SKIP\n",
      "\n",
      "General-purpose documents like a glossary and help on the basic concepts\n",
      "of numpy are available under the ``doc`` sub-module::\n",
      "\n",
      "  >>> from numpy import doc\n",
      "  >>> help(doc)\n",
      "  ... # doctest: +SKIP\n",
      "\n",
      "Available subpackages\n",
      "---------------------\n",
      "doc\n",
      "    Topical documentation on broadcasting, indexing, etc.\n",
      "lib\n",
      "    Basic functions used by several sub-packages.\n",
      "random\n",
      "    Core Random Tools\n",
      "linalg\n",
      "    Core Linear Algebra Tools\n",
      "fft\n",
      "    Core FFT routines\n",
      "polynomial\n",
      "    Polynomial tools\n",
      "testing\n",
      "    NumPy testing tools\n",
      "f2py\n",
      "    Fortran to Python Interface Generator.\n",
      "distutils\n",
      "    Enhancements to distutils with support for\n",
      "    Fortran compilers support and more.\n",
      "\n",
      "Utilities\n",
      "---------\n",
      "test\n",
      "    Run numpy unittests\n",
      "show_config\n",
      "    Show numpy build configuration\n",
      "dual\n",
      "    Overwrite certain functions with high-performance SciPy tools.\n",
      "    Note: `numpy.dual` is deprecated.  Use the functions from NumPy or Scipy\n",
      "    directly instead of importing them from `numpy.dual`.\n",
      "matlib\n",
      "    Make everything matrices.\n",
      "__version__\n",
      "    NumPy version string\n",
      "\n",
      "Viewing documentation using IPython\n",
      "-----------------------------------\n",
      "Start IPython with the NumPy profile (``ipython -p numpy``), which will\n",
      "import `numpy` under the alias `np`.  Then, use the ``cpaste`` command to\n",
      "paste examples into the shell.  To see which functions are available in\n",
      "`numpy`, type ``np.<TAB>`` (where ``<TAB>`` refers to the TAB key), or use\n",
      "``np.*cos*?<ENTER>`` (where ``<ENTER>`` refers to the ENTER key) to narrow\n",
      "down the list.  To view the docstring for a function, use\n",
      "``np.cos?<ENTER>`` (to view the docstring) and ``np.cos??<ENTER>`` (to view\n",
      "the source code).\n",
      "\n",
      "Copies vs. in-place operation\n",
      "-----------------------------\n",
      "Most of the functions in `numpy` return a copy of the array argument\n",
      "(e.g., `np.sort`).  In-place versions of these functions are often\n",
      "available as array methods, i.e. ``x = np.array([1,2,3]); x.sort()``.\n",
      "Exceptions to this rule are documented.\n",
      "\n",
      "\n"
     ]
    }
   ],
   "source": [
    "import numpy as np\n",
    "\n",
    "print(np.__doc__)"
   ]
  },
  {
   "cell_type": "markdown",
   "metadata": {},
   "source": [
    "If stuck when working on the lab exercises, first try to get any info from the error stack trace. A lot of times maybe an import could be the only problem. If not, take things step by step. Also, check indentation.\n",
    "\n",
    "Check if dimensions, attributes and types of variables are as you wish with $ x.shape, vars(x), type(x)$. \n",
    "\n",
    "You can always ask us questions during the semester, during evaluation this option won't be available.\n",
    "\n",
    "$!$ When working with the lab robots, restart the kernel when you want to run cells that send data to it. Make sure the port is the correct one as well."
   ]
  }
 ],
 "metadata": {
  "kernelspec": {
   "display_name": "Python 3",
   "language": "python",
   "name": "python3"
  },
  "language_info": {
   "codemirror_mode": {
    "name": "ipython",
    "version": 3
   },
   "file_extension": ".py",
   "mimetype": "text/x-python",
   "name": "python",
   "nbconvert_exporter": "python",
   "pygments_lexer": "ipython3",
   "version": "3.8.8"
  },
  "varInspector": {
   "cols": {
    "lenName": 16,
    "lenType": 16,
    "lenVar": 40
   },
   "kernels_config": {
    "python": {
     "delete_cmd_postfix": "",
     "delete_cmd_prefix": "del ",
     "library": "var_list.py",
     "varRefreshCmd": "print(var_dic_list())"
    },
    "r": {
     "delete_cmd_postfix": ") ",
     "delete_cmd_prefix": "rm(",
     "library": "var_list.r",
     "varRefreshCmd": "cat(var_dic_list()) "
    }
   },
   "types_to_exclude": [
    "module",
    "function",
    "builtin_function_or_method",
    "instance",
    "_Feature"
   ],
   "window_display": false
  }
 },
 "nbformat": 4,
 "nbformat_minor": 4
}
