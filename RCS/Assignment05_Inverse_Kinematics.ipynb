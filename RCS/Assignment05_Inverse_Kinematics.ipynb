{
 "cells": [
  {
   "cell_type": "markdown",
   "id": "190ce93b-89f5-49f2-89c0-b15cd2a96e25",
   "metadata": {},
   "source": [
    "# Helping dr. Vasilescu\n",
    "\n",
    "In order to maximize her chances of survival, dr. Vasilescu needs to plant potatoes in specific coordinates. To do that, she needs to understand inverse kinematics and calculate them for her robot. Start with an analytical exercise, and then calculate the inverse kinematics of the AL5D robot using the toolbox."
   ]
  },
  {
   "cell_type": "markdown",
   "id": "bef1315c",
   "metadata": {},
   "source": [
    "# Analytical inverse kinematics\n",
    "We consider the robotic structure with 3 degrees of freedom from figure fig 5.3, for which $l_1=0.5\\;m$.\n",
    "\n",
    "<center>\n",
    "    <figure class=\"image\">\n",
    "      <img src=\"../artwork/IKM/mgi3.png\"  width=50% />\n",
    "      <figcaption>Figure 5.3: Robot RRT</figcaption>\n",
    "    </figure>\n",
    "</center>\n",
    "\n",
    "* Given the direct geometric model, calculate the inverse kinematics model for X, Y, and Z position of the end-effector\n",
    "\n",
    "\\begin{equation}\n",
    "\\left[ {{\\begin{array}{*{20}c}\n",
    " c_1 & -s_1c_2 &  s_1s_2 & -q_3s_1c_2 \\\\\n",
    " s_1 &  c_1c_2 & -c_1s_2 &  q_3c_1c_2 \\\\\n",
    " 0   &  s_2    &  c_2    & l_1+q_3s_2 \\\\\n",
    " 0  & 0  & 0  & 1  \\\\\n",
    "\\end{array} }} \\right]\n",
    "\\\n",
    "\\end{equation}\n",
    "\n",
    "* Calculate the joint coordinates that result in the following position for the end-effector: [2,4,0.5]"
   ]
  },
  {
   "cell_type": "code",
   "execution_count": 19,
   "id": "fb32e46e",
   "metadata": {},
   "outputs": [
    {
     "name": "stdout",
     "output_type": "stream",
     "text": [
      "q1 =  -0.4636476090008061\n",
      "q2 =  0.0\n",
      "q3 =  2.1114561800016824\n"
     ]
    }
   ],
   "source": [
    "Px = 2\n",
    "Py = 4\n",
    "Pz = 0.5\n",
    "l1 = 0.5\n",
    "\n",
    "q1 = -np.arctan(Px / Py)\n",
    "q2 = np.arctan(((Pz - l1) * np.cos(q1)) / 4)\n",
    "q3 = Py / (np.cos(q1) + np.cos(q2))\n",
    "\n",
    "print(\"q1 = \", q1)\n",
    "print(\"q2 = \", q2)\n",
    "print(\"q3 = \", q3)"
   ]
  },
  {
   "cell_type": "markdown",
   "id": "b1234ce9-67ac-4fc2-85f0-60ea5fecac9f",
   "metadata": {},
   "source": [
    "## Numerical inverse kinematics (robotics toolbox)\n",
    "\n",
    "* Check what values does the gripper need for open/close positions\n",
    "* Notice that the robot accepts positions in meters\n",
    "\n",
    "Using the AL5D robot and the robotic toolbox, implement a program that:\n",
    "* Picks a potato from coordinates X=20cm, Y=-15cm, Z=2cm, and places it at coordinates X=24cm, Y=12cm, and Z=2cm.\n",
    "* Consider a rotation around Y by -80 degrees for the picking pose.\n",
    "* Consider a rotation around Z by +45 degrees for the placing pose.\n",
    "* In both cases, the rotations are relative and are being multiplied from the right (Transl * Rot).\n",
    "* Keep in mind that the potato is lying flat on the table.\n",
    "* Use the ikine_LM method of the robotics toolbox module for solving the inverse kinematics for the specific poses.\n",
    "* Specify that you are interested in the 3 positions and in the Y, Z orientations when solving the inverse kinematics.\n",
    "* Then use the provided functions for controlling the joint positions so that the desired poses are reached. Keep in mind to keep a delay between any two poses."
   ]
  },
  {
   "cell_type": "code",
   "execution_count": 21,
   "id": "e19f1b00-f47a-4fa2-9790-139e44b02471",
   "metadata": {},
   "outputs": [
    {
     "ename": "ValueError",
     "evalue": "incorrect vector length: expected 5, got (3,)",
     "output_type": "error",
     "traceback": [
      "\u001b[1;31m---------------------------------------------------------------------------\u001b[0m",
      "\u001b[1;31mValueError\u001b[0m                                Traceback (most recent call last)",
      "\u001b[1;32m~\\AppData\\Local\\Temp/ipykernel_3968/2192916187.py\u001b[0m in \u001b[0;36m<module>\u001b[1;34m\u001b[0m\n\u001b[0;32m     28\u001b[0m \u001b[1;31m# T  = Transl @ Rot\u001b[0m\u001b[1;33m\u001b[0m\u001b[1;33m\u001b[0m\u001b[1;33m\u001b[0m\u001b[0m\n\u001b[0;32m     29\u001b[0m \u001b[0mT\u001b[0m \u001b[1;33m=\u001b[0m \u001b[0mSE3\u001b[0m\u001b[1;33m(\u001b[0m\u001b[0mxi\u001b[0m\u001b[1;33m,\u001b[0m \u001b[0myi\u001b[0m\u001b[1;33m,\u001b[0m \u001b[0mzi\u001b[0m\u001b[1;33m)\u001b[0m\u001b[1;33m\u001b[0m\u001b[1;33m\u001b[0m\u001b[0m\n\u001b[1;32m---> 30\u001b[1;33m \u001b[0msol_comp\u001b[0m \u001b[1;33m=\u001b[0m \u001b[0mrob\u001b[0m\u001b[1;33m.\u001b[0m\u001b[0mikine_LM\u001b[0m\u001b[1;33m(\u001b[0m\u001b[0mT\u001b[0m\u001b[1;33m,\u001b[0m \u001b[0mq0\u001b[0m\u001b[1;33m=\u001b[0m\u001b[0mq_dummy\u001b[0m\u001b[1;33m+\u001b[0m\u001b[1;36m0.2\u001b[0m\u001b[1;33m,\u001b[0m \u001b[0mmask\u001b[0m\u001b[1;33m=\u001b[0m\u001b[0mnp\u001b[0m\u001b[1;33m.\u001b[0m\u001b[0marray\u001b[0m\u001b[1;33m(\u001b[0m\u001b[1;33m[\u001b[0m\u001b[1;36m1\u001b[0m\u001b[1;33m,\u001b[0m\u001b[1;36m1\u001b[0m\u001b[1;33m,\u001b[0m\u001b[1;36m1\u001b[0m\u001b[1;33m,\u001b[0m\u001b[1;36m0\u001b[0m\u001b[1;33m,\u001b[0m\u001b[1;36m1\u001b[0m\u001b[1;33m,\u001b[0m\u001b[1;36m1\u001b[0m\u001b[1;33m]\u001b[0m\u001b[1;33m)\u001b[0m\u001b[1;33m)\u001b[0m\u001b[1;33m\u001b[0m\u001b[1;33m\u001b[0m\u001b[0m\n\u001b[0m\u001b[0;32m     31\u001b[0m \u001b[0mprint\u001b[0m\u001b[1;33m(\u001b[0m\u001b[1;34m'Joint coordinates computed by inverse kinematics for the picking pose, with initial guess:'\u001b[0m\u001b[1;33m,\u001b[0m \u001b[0msol_comp\u001b[0m\u001b[1;33m.\u001b[0m\u001b[0mq\u001b[0m\u001b[1;33m)\u001b[0m\u001b[1;33m\u001b[0m\u001b[1;33m\u001b[0m\u001b[0m\n\u001b[0;32m     32\u001b[0m \u001b[1;33m\u001b[0m\u001b[0m\n",
      "\u001b[1;32m~\\.conda\\envs\\rcs_labs\\lib\\site-packages\\roboticstoolbox\\robot\\IK.py\u001b[0m in \u001b[0;36mikine_LM\u001b[1;34m(self, T, q0, mask, ilimit, rlimit, tol, L, Lmin, search, slimit, transpose, end)\u001b[0m\n\u001b[0;32m    311\u001b[0m             \u001b[0mq0\u001b[0m \u001b[1;33m=\u001b[0m \u001b[0mnp\u001b[0m\u001b[1;33m.\u001b[0m\u001b[0mzeros\u001b[0m\u001b[1;33m(\u001b[0m\u001b[1;33m(\u001b[0m\u001b[0mself\u001b[0m\u001b[1;33m.\u001b[0m\u001b[0mn\u001b[0m\u001b[1;33m,\u001b[0m\u001b[1;33m)\u001b[0m\u001b[1;33m)\u001b[0m\u001b[1;33m\u001b[0m\u001b[1;33m\u001b[0m\u001b[0m\n\u001b[0;32m    312\u001b[0m         \u001b[1;32melse\u001b[0m\u001b[1;33m:\u001b[0m\u001b[1;33m\u001b[0m\u001b[1;33m\u001b[0m\u001b[0m\n\u001b[1;32m--> 313\u001b[1;33m             \u001b[0mq0\u001b[0m \u001b[1;33m=\u001b[0m \u001b[0mbase\u001b[0m\u001b[1;33m.\u001b[0m\u001b[0mgetvector\u001b[0m\u001b[1;33m(\u001b[0m\u001b[0mq0\u001b[0m\u001b[1;33m,\u001b[0m \u001b[0mself\u001b[0m\u001b[1;33m.\u001b[0m\u001b[0mn\u001b[0m\u001b[1;33m)\u001b[0m\u001b[1;33m\u001b[0m\u001b[1;33m\u001b[0m\u001b[0m\n\u001b[0m\u001b[0;32m    314\u001b[0m \u001b[1;33m\u001b[0m\u001b[0m\n\u001b[0;32m    315\u001b[0m         \u001b[1;32mif\u001b[0m \u001b[0mmask\u001b[0m \u001b[1;32mis\u001b[0m \u001b[1;32mnot\u001b[0m \u001b[1;32mNone\u001b[0m\u001b[1;33m:\u001b[0m\u001b[1;33m\u001b[0m\u001b[1;33m\u001b[0m\u001b[0m\n",
      "\u001b[1;32m~\\.conda\\envs\\rcs_labs\\lib\\site-packages\\spatialmath\\base\\argcheck.py\u001b[0m in \u001b[0;36mgetvector\u001b[1;34m(v, dim, out, dtype)\u001b[0m\n\u001b[0;32m    350\u001b[0m             \u001b[1;32mif\u001b[0m \u001b[1;32mnot\u001b[0m \u001b[1;33m(\u001b[0m\u001b[0ms\u001b[0m \u001b[1;33m==\u001b[0m \u001b[1;33m(\u001b[0m\u001b[0mdim\u001b[0m\u001b[1;33m,\u001b[0m\u001b[1;33m)\u001b[0m \u001b[1;32mor\u001b[0m \u001b[0ms\u001b[0m \u001b[1;33m==\u001b[0m \u001b[1;33m(\u001b[0m\u001b[1;36m1\u001b[0m\u001b[1;33m,\u001b[0m \u001b[0mdim\u001b[0m\u001b[1;33m)\u001b[0m \u001b[1;32mor\u001b[0m \u001b[0ms\u001b[0m \u001b[1;33m==\u001b[0m \u001b[1;33m(\u001b[0m\u001b[0mdim\u001b[0m\u001b[1;33m,\u001b[0m \u001b[1;36m1\u001b[0m\u001b[1;33m)\u001b[0m\u001b[1;33m)\u001b[0m\u001b[1;33m:\u001b[0m\u001b[1;33m\u001b[0m\u001b[1;33m\u001b[0m\u001b[0m\n\u001b[0;32m    351\u001b[0m                 raise ValueError(\n\u001b[1;32m--> 352\u001b[1;33m                     \u001b[1;34m\"incorrect vector length: expected {}, got {}\"\u001b[0m\u001b[1;33m.\u001b[0m\u001b[0mformat\u001b[0m\u001b[1;33m(\u001b[0m\u001b[0mdim\u001b[0m\u001b[1;33m,\u001b[0m \u001b[0ms\u001b[0m\u001b[1;33m)\u001b[0m\u001b[1;33m\u001b[0m\u001b[1;33m\u001b[0m\u001b[0m\n\u001b[0m\u001b[0;32m    353\u001b[0m                 )\n\u001b[0;32m    354\u001b[0m \u001b[1;33m\u001b[0m\u001b[0m\n",
      "\u001b[1;31mValueError\u001b[0m: incorrect vector length: expected 5, got (3,)"
     ]
    }
   ],
   "source": [
    "# Importing necessary modules\n",
    "import roboticstoolbox as rtb\n",
    "import numpy as np\n",
    "from spatialmath import *\n",
    "from spatialmath.base import *\n",
    "from math import *\n",
    "\n",
    "rob = rtb.models.URDF.AL5D_mdw()\n",
    "\n",
    "# initial coordinates of the potato\n",
    "xi = 0.2\n",
    "yi = 0.15\n",
    "zi = 0.02\n",
    "\n",
    "# final coordinates of the potato\n",
    "xf = 0.24\n",
    "yf = 0.12\n",
    "zf = 0.02\n",
    "\n",
    "y_rot_pick = -80  # rotation around Y in degrees for the picking pose\n",
    "z_rot_place = +45 # rotation around Y in degrees for the placing pose\n",
    "\n",
    "q_dummy  = np.array([0, -np.pi/2.25, np.pi/4])\n",
    "\n",
    "# Inverse kinematics for picking \n",
    "Transl = transl(xi, yi, zi)\n",
    "Rot = troty(-80, 'deg')\n",
    "T  = Transl @ Rot\n",
    "sol_comp = rob.ikine_LM(T, q0=q_dummy+0.2, mask=np.array([1,1,1,0,1,1]))\n",
    "print('Joint coordinates computed by inverse kinematics for the picking pose, with initial guess:', sol_comp.q)                     \n",
    "                     \n",
    "q = np.array([0,0,0,0,0])\n",
    "rob.plot(q)\n",
    "\n",
    "# Inverse kinematics for placing\n",
    "Transl = transl(xf, yf, zf)\n",
    "Rot = trotz(+45, 'deg')\n",
    "T  = Transl @ Rot\n",
    "sol_comp = rob.ikine_LM(T, q0=q_dummy+0.2, mask=np.array([1,1,1,0,1,1]))\n",
    "print('Joint coordinates computed by inverse kinematics for the placing pose, with initial guess:', sol_comp.q)                     \n"
   ]
  },
  {
   "cell_type": "markdown",
   "id": "d45c97fd-61ed-45eb-99c4-7a1e1f053fb6",
   "metadata": {},
   "source": [
    "When implementing the motion with the actual robot, consider the sequence described in the following figure:\n",
    "    \n",
    "<center>\n",
    "    <figure class=\"image\">\n",
    "      <img src=\"../artwork/IKM/al5d_gripping_sequence.png\"  width=50% />\n",
    "      <figcaption>Figure 5.4: Pick and place sequence for a robot. With green are the steps when the gripper is closed</figcaption>\n",
    "    </figure>\n",
    "</center>"
   ]
  },
  {
   "cell_type": "code",
   "execution_count": 20,
   "id": "309b1897-f309-454e-a713-040e56e52808",
   "metadata": {},
   "outputs": [
    {
     "name": "stdout",
     "output_type": "stream",
     "text": [
      "No device connected on  /dev/ttyUSB0\n",
      "No device connected on  /dev/ttyUSB1\n",
      "Device connected on  COM1\n",
      "No device connected on  COM2\n",
      "No device connected on  COM3\n",
      "Device connected on  COM4\n",
      "No device connected on  COM5\n",
      "No device connected on  COM6\n",
      "No device connected on  COM7\n",
      "No device connected on  COM8\n",
      "No device connected on  COM9\n",
      "No collision detected\n",
      "No collision detected\n"
     ]
    }
   ],
   "source": [
    "from al5d_control import *\n",
    "from time import sleep\n",
    "\n",
    "# for sending the commands\n",
    "rrob = AL5DControl()\n",
    "\n",
    "# Solve the ikine for the respective poses\n",
    "# The solution will be in radians\n",
    "\n",
    "# Control the robot to go to each pose using the robot_control function\n",
    "# Give degrees as input for the joint values\n",
    "\n",
    "# example of using the robot_control\n",
    "# !!! USE THESE FUNCTIONS WITH YOUR OWN SOLUTION TO START THE ROBOT ONLY AFTER SIMULATION\n",
    "rrob.robot_control(0,0,0,0,0,0)\n",
    "time.sleep(4)\n",
    "rrob.robot_control(10,0,0,0,0,0)"
   ]
  },
  {
   "cell_type": "code",
   "execution_count": null,
   "id": "0c5e56bb",
   "metadata": {},
   "outputs": [],
   "source": []
  }
 ],
 "metadata": {
  "kernelspec": {
   "display_name": "Python 3 (ipykernel)",
   "language": "python",
   "name": "python3"
  },
  "language_info": {
   "codemirror_mode": {
    "name": "ipython",
    "version": 3
   },
   "file_extension": ".py",
   "mimetype": "text/x-python",
   "name": "python",
   "nbconvert_exporter": "python",
   "pygments_lexer": "ipython3",
   "version": "3.7.6"
  }
 },
 "nbformat": 4,
 "nbformat_minor": 5
}
