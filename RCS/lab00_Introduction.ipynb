{
 "cells": [
  {
   "cell_type": "markdown",
   "id": "5b11fda8-fdc5-40b3-b30a-bd4f9549ced4",
   "metadata": {},
   "source": [
    "# Alone on Mars: I wish I had studied robotics at school…\n",
    "\n",
    "The year is 2023. An international cooperation between [NASA](https://www.nasa.gov/), [ESA](https://www.esa.int/), [JAXA](https://global.jaxa.jp/), and [CSA](https://www.asc-csa.gc.ca/eng/) has managed to send the first crewed mission to Mars, our neighboring planet. Their aim was to establish a permanent human settlement on the red planet, furthering mankind's quest to explore and inhabit extraterrestrial frontiers.\n",
    "\n",
    "As their spacecraft, the Artemis, touched down on Mars' rugged surface, the team discovered an unforeseen obstacle in the form of a powerful dust storm. Unrelenting and ferocious, the tempest consumed their vessel, leaving only one member of the crew and a handful of robots intact amidst the inhospitable Martian wasteland.\n",
    "\n",
    "<center>\n",
    "    <figure>\n",
    "    <img src=\"../artwork/stranded/stranded.png\" width=60%/>\n",
    "    <figcaption><center>Figure 1: A lonely astronaut stranded on the surface of inhospitable Mars</center></figcaption>\n",
    "</figure>\n",
    "</center>\n",
    "\n",
    "Her name was… dr. Elena Vasilescu.\n",
    "\n",
    "Stranded and separated from humanity by millions of kilometers, Dr. Vasilescu fought to maintain her sanity in the face of her desolate surroundings. The relentless solitude stretched before her, every breath an arduous reminder of her isolation. However, her spirit remained unyielding, fueled by the belief that she was the only hope for survival.\n",
    "\n",
    "Dr. Vasilescu was not alone. She was accompanied by the best robots humans had ever made, each designed to assist the survival and scientific operations of the mission. The CREW (Cognitive Robotic Exploration Workforce) robots were assigned to collect samples, analyze atmospheric conditions, and scout for potential resources. However, the roboticist of the mission had vanished together with the rest of the crew, and it was now her task to operate those robots. Oh, how she wished she would have paid attention to those robotics laboratories when she was a student…\n",
    "\n",
    "Now, she has to learn robotics again from scratch.\n",
    "\n",
    "Her life depended on it.\n",
    "\n",
    "But first, she needs to [brush up her python skills](../assignments/Assignment00_Python_micro_tutorial.ipynb)"
   ]
  }
 ],
 "metadata": {
  "kernelspec": {
   "display_name": "Python3",
   "language": "python",
   "name": "python3"
  },
  "language_info": {
   "codemirror_mode": {
    "name": "ipython",
    "version": 3
   },
   "file_extension": ".py",
   "mimetype": "text/x-python",
   "name": "python",
   "nbconvert_exporter": "python",
   "pygments_lexer": "ipython3",
   "version": "3.11.5"
  }
 },
 "nbformat": 4,
 "nbformat_minor": 5
}
