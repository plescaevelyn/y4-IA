{
 "cells": [
  {
   "cell_type": "markdown",
   "id": "2679f5fa-4526-4ea1-a96d-5f4b3e5e9e58",
   "metadata": {
    "tags": []
   },
   "source": [
    "Consider the 2DOF robotic structure from the figure below, for which $L1=L2=1 \\;m$, $m1=m2=1\\;kg$. The q1 and q2 initial conditions are $\\pi$/4 and 1.\n",
    "  \n",
    "* Find the forward kinematics model using the D-H convention and create the robot using the robotics toolbox library DHRobot.\n",
    "* Compute the C, D, and G matrices.    \n",
    "* Implement in Python the robot model using the state space representation, with [odeintw](https://github.com/WarrenWeckesser/odeintw) (wrapper of odeint for working with matrices) for solving the MIMO diferential equations. Give two sine waves as the input joint torques.  \n",
    "* Plot the positions and velocities compared with the inputs. Interpret the results.\n",
    "\n",
    "<img src=\"../artwork/DynMod/2DOFstud.png\" width=50% />"
   ]
  },
  {
   "cell_type": "code",
   "execution_count": 7,
   "id": "5de1c0b5-bb8a-4b4e-bd21-a54d4638c600",
   "metadata": {
    "code_folding": [],
    "tags": []
   },
   "outputs": [
    {
     "name": "stderr",
     "output_type": "stream",
     "text": [
      "C:\\Users\\evely\\anaconda3\\Lib\\site-packages\\scipy\\integrate\\_odepack_py.py:248: ODEintWarning: Excess work done on this call (perhaps wrong Dfun type). Run with full_output = 1 to get quantitative information.\n",
      "  warnings.warn(warning_msg, ODEintWarning)\n"
     ]
    },
    {
     "ename": "ValueError",
     "evalue": "x and y must have same first dimension, but have shapes (100,) and (2,)",
     "output_type": "error",
     "traceback": [
      "\u001b[1;31m---------------------------------------------------------------------------\u001b[0m",
      "\u001b[1;31mValueError\u001b[0m                                Traceback (most recent call last)",
      "Cell \u001b[1;32mIn[7], line 92\u001b[0m\n\u001b[0;32m     89\u001b[0m plt\u001b[38;5;241m.\u001b[39mfigure()\n\u001b[0;32m     91\u001b[0m plt\u001b[38;5;241m.\u001b[39msubplot(\u001b[38;5;241m3\u001b[39m, \u001b[38;5;241m1\u001b[39m, \u001b[38;5;241m1\u001b[39m)\n\u001b[1;32m---> 92\u001b[0m plt\u001b[38;5;241m.\u001b[39mplot(t, u[:, \u001b[38;5;241m0\u001b[39m], \u001b[38;5;124m'\u001b[39m\u001b[38;5;124mg:\u001b[39m\u001b[38;5;124m'\u001b[39m, label\u001b[38;5;241m=\u001b[39m\u001b[38;5;124m'\u001b[39m\u001b[38;5;124mu1(t)\u001b[39m\u001b[38;5;124m'\u001b[39m)\n\u001b[0;32m     93\u001b[0m plt\u001b[38;5;241m.\u001b[39mplot(t, u[:, \u001b[38;5;241m1\u001b[39m], \u001b[38;5;124m'\u001b[39m\u001b[38;5;124mg--\u001b[39m\u001b[38;5;124m'\u001b[39m, label\u001b[38;5;241m=\u001b[39m\u001b[38;5;124m'\u001b[39m\u001b[38;5;124mu2(t)\u001b[39m\u001b[38;5;124m'\u001b[39m)\n\u001b[0;32m     94\u001b[0m plt\u001b[38;5;241m.\u001b[39mylabel(\u001b[38;5;124m'\u001b[39m\u001b[38;5;124mControl Input\u001b[39m\u001b[38;5;124m'\u001b[39m)\n",
      "File \u001b[1;32m~\\anaconda3\\Lib\\site-packages\\matplotlib\\pyplot.py:2812\u001b[0m, in \u001b[0;36mplot\u001b[1;34m(scalex, scaley, data, *args, **kwargs)\u001b[0m\n\u001b[0;32m   2810\u001b[0m \u001b[38;5;129m@_copy_docstring_and_deprecators\u001b[39m(Axes\u001b[38;5;241m.\u001b[39mplot)\n\u001b[0;32m   2811\u001b[0m \u001b[38;5;28;01mdef\u001b[39;00m \u001b[38;5;21mplot\u001b[39m(\u001b[38;5;241m*\u001b[39margs, scalex\u001b[38;5;241m=\u001b[39m\u001b[38;5;28;01mTrue\u001b[39;00m, scaley\u001b[38;5;241m=\u001b[39m\u001b[38;5;28;01mTrue\u001b[39;00m, data\u001b[38;5;241m=\u001b[39m\u001b[38;5;28;01mNone\u001b[39;00m, \u001b[38;5;241m*\u001b[39m\u001b[38;5;241m*\u001b[39mkwargs):\n\u001b[1;32m-> 2812\u001b[0m     \u001b[38;5;28;01mreturn\u001b[39;00m gca()\u001b[38;5;241m.\u001b[39mplot(\n\u001b[0;32m   2813\u001b[0m         \u001b[38;5;241m*\u001b[39margs, scalex\u001b[38;5;241m=\u001b[39mscalex, scaley\u001b[38;5;241m=\u001b[39mscaley,\n\u001b[0;32m   2814\u001b[0m         \u001b[38;5;241m*\u001b[39m\u001b[38;5;241m*\u001b[39m({\u001b[38;5;124m\"\u001b[39m\u001b[38;5;124mdata\u001b[39m\u001b[38;5;124m\"\u001b[39m: data} \u001b[38;5;28;01mif\u001b[39;00m data \u001b[38;5;129;01mis\u001b[39;00m \u001b[38;5;129;01mnot\u001b[39;00m \u001b[38;5;28;01mNone\u001b[39;00m \u001b[38;5;28;01melse\u001b[39;00m {}), \u001b[38;5;241m*\u001b[39m\u001b[38;5;241m*\u001b[39mkwargs)\n",
      "File \u001b[1;32m~\\anaconda3\\Lib\\site-packages\\matplotlib\\axes\\_axes.py:1688\u001b[0m, in \u001b[0;36mAxes.plot\u001b[1;34m(self, scalex, scaley, data, *args, **kwargs)\u001b[0m\n\u001b[0;32m   1445\u001b[0m \u001b[38;5;250m\u001b[39m\u001b[38;5;124;03m\"\"\"\u001b[39;00m\n\u001b[0;32m   1446\u001b[0m \u001b[38;5;124;03mPlot y versus x as lines and/or markers.\u001b[39;00m\n\u001b[0;32m   1447\u001b[0m \n\u001b[1;32m   (...)\u001b[0m\n\u001b[0;32m   1685\u001b[0m \u001b[38;5;124;03m(``'green'``) or hex strings (``'#008000'``).\u001b[39;00m\n\u001b[0;32m   1686\u001b[0m \u001b[38;5;124;03m\"\"\"\u001b[39;00m\n\u001b[0;32m   1687\u001b[0m kwargs \u001b[38;5;241m=\u001b[39m cbook\u001b[38;5;241m.\u001b[39mnormalize_kwargs(kwargs, mlines\u001b[38;5;241m.\u001b[39mLine2D)\n\u001b[1;32m-> 1688\u001b[0m lines \u001b[38;5;241m=\u001b[39m [\u001b[38;5;241m*\u001b[39m\u001b[38;5;28mself\u001b[39m\u001b[38;5;241m.\u001b[39m_get_lines(\u001b[38;5;241m*\u001b[39margs, data\u001b[38;5;241m=\u001b[39mdata, \u001b[38;5;241m*\u001b[39m\u001b[38;5;241m*\u001b[39mkwargs)]\n\u001b[0;32m   1689\u001b[0m \u001b[38;5;28;01mfor\u001b[39;00m line \u001b[38;5;129;01min\u001b[39;00m lines:\n\u001b[0;32m   1690\u001b[0m     \u001b[38;5;28mself\u001b[39m\u001b[38;5;241m.\u001b[39madd_line(line)\n",
      "File \u001b[1;32m~\\anaconda3\\Lib\\site-packages\\matplotlib\\axes\\_base.py:311\u001b[0m, in \u001b[0;36m_process_plot_var_args.__call__\u001b[1;34m(self, data, *args, **kwargs)\u001b[0m\n\u001b[0;32m    309\u001b[0m     this \u001b[38;5;241m+\u001b[39m\u001b[38;5;241m=\u001b[39m args[\u001b[38;5;241m0\u001b[39m],\n\u001b[0;32m    310\u001b[0m     args \u001b[38;5;241m=\u001b[39m args[\u001b[38;5;241m1\u001b[39m:]\n\u001b[1;32m--> 311\u001b[0m \u001b[38;5;28;01myield from\u001b[39;00m \u001b[38;5;28mself\u001b[39m\u001b[38;5;241m.\u001b[39m_plot_args(\n\u001b[0;32m    312\u001b[0m     this, kwargs, ambiguous_fmt_datakey\u001b[38;5;241m=\u001b[39mambiguous_fmt_datakey)\n",
      "File \u001b[1;32m~\\anaconda3\\Lib\\site-packages\\matplotlib\\axes\\_base.py:504\u001b[0m, in \u001b[0;36m_process_plot_var_args._plot_args\u001b[1;34m(self, tup, kwargs, return_kwargs, ambiguous_fmt_datakey)\u001b[0m\n\u001b[0;32m    501\u001b[0m     \u001b[38;5;28mself\u001b[39m\u001b[38;5;241m.\u001b[39maxes\u001b[38;5;241m.\u001b[39myaxis\u001b[38;5;241m.\u001b[39mupdate_units(y)\n\u001b[0;32m    503\u001b[0m \u001b[38;5;28;01mif\u001b[39;00m x\u001b[38;5;241m.\u001b[39mshape[\u001b[38;5;241m0\u001b[39m] \u001b[38;5;241m!=\u001b[39m y\u001b[38;5;241m.\u001b[39mshape[\u001b[38;5;241m0\u001b[39m]:\n\u001b[1;32m--> 504\u001b[0m     \u001b[38;5;28;01mraise\u001b[39;00m \u001b[38;5;167;01mValueError\u001b[39;00m(\u001b[38;5;124mf\u001b[39m\u001b[38;5;124m\"\u001b[39m\u001b[38;5;124mx and y must have same first dimension, but \u001b[39m\u001b[38;5;124m\"\u001b[39m\n\u001b[0;32m    505\u001b[0m                      \u001b[38;5;124mf\u001b[39m\u001b[38;5;124m\"\u001b[39m\u001b[38;5;124mhave shapes \u001b[39m\u001b[38;5;132;01m{\u001b[39;00mx\u001b[38;5;241m.\u001b[39mshape\u001b[38;5;132;01m}\u001b[39;00m\u001b[38;5;124m and \u001b[39m\u001b[38;5;132;01m{\u001b[39;00my\u001b[38;5;241m.\u001b[39mshape\u001b[38;5;132;01m}\u001b[39;00m\u001b[38;5;124m\"\u001b[39m)\n\u001b[0;32m    506\u001b[0m \u001b[38;5;28;01mif\u001b[39;00m x\u001b[38;5;241m.\u001b[39mndim \u001b[38;5;241m>\u001b[39m \u001b[38;5;241m2\u001b[39m \u001b[38;5;129;01mor\u001b[39;00m y\u001b[38;5;241m.\u001b[39mndim \u001b[38;5;241m>\u001b[39m \u001b[38;5;241m2\u001b[39m:\n\u001b[0;32m    507\u001b[0m     \u001b[38;5;28;01mraise\u001b[39;00m \u001b[38;5;167;01mValueError\u001b[39;00m(\u001b[38;5;124mf\u001b[39m\u001b[38;5;124m\"\u001b[39m\u001b[38;5;124mx and y can be no greater than 2D, but have \u001b[39m\u001b[38;5;124m\"\u001b[39m\n\u001b[0;32m    508\u001b[0m                      \u001b[38;5;124mf\u001b[39m\u001b[38;5;124m\"\u001b[39m\u001b[38;5;124mshapes \u001b[39m\u001b[38;5;132;01m{\u001b[39;00mx\u001b[38;5;241m.\u001b[39mshape\u001b[38;5;132;01m}\u001b[39;00m\u001b[38;5;124m and \u001b[39m\u001b[38;5;132;01m{\u001b[39;00my\u001b[38;5;241m.\u001b[39mshape\u001b[38;5;132;01m}\u001b[39;00m\u001b[38;5;124m\"\u001b[39m)\n",
      "\u001b[1;31mValueError\u001b[0m: x and y must have same first dimension, but have shapes (100,) and (2,)"
     ]
    },
    {
     "data": {
      "image/png": "[encoded data removed]",
      "text/plain": [
       "<Figure size 640x480 with 1 Axes>"
      ]
     },
     "metadata": {},
     "output_type": "display_data"
    }
   ],
   "source": [
    "%reset -f\n",
    "import numpy as np\n",
    "import matplotlib.pyplot as plt\n",
    "import roboticstoolbox as rtb\n",
    "import math as m\n",
    "from roboticstoolbox import *\n",
    "from spatialmath import *\n",
    "from spatialmath.base import * \n",
    "from lab_functions import lim_prismatic\n",
    "from odeintw import *\n",
    "\n",
    "##########  2C, 2D ############\n",
    "\n",
    "pr_lim = 10\n",
    "\n",
    "def model(x,t,u):\n",
    "    u = u.reshape(2,1) # reshaping for mathematical operations\n",
    "    \n",
    "    q  = x[:,0]  #first column of states x, the positions\n",
    "    dq = x[:,1]  #second column of states x, the velocities\n",
    "    \n",
    "    lim_prismatic(q,dq,pr_lim) # This is called so that the prismatic joint gets a physical limit\n",
    "    \n",
    "    # Define the robot's physical parameters\n",
    "    m1 = 1  # Mass of link 1\n",
    "    m2 = 1  # Mass of link 2\n",
    "    l1 = 1  # Length of link 1\n",
    "    l2 = 1  # Length of link 2\n",
    "    r1 = l1 / 2  # Distance from joint axis to center of mass of link 1\n",
    "    r2 = l2 / 2  # Distance from joint axis to center of mass of link 2\n",
    "    I1 = m1 * l1**2 / 12  # Moment of inertia of link 1\n",
    "    I2 = m2 * l2**2 / 12  # Moment of inertia of link 2\n",
    "    g = 9.81  # Acceleration due to gravity\n",
    "    \n",
    "    # Calculate the inertia matrix D(q)\n",
    "    D = np.array([[I1 + m2*l1**2 + 2*m2*l1*r2*np.cos(q[1]), I2 + m2*l1*r2*np.cos(q[1])],\n",
    "                  [I2 + m2*l1*r2*np.cos(q[1]), I2]])\n",
    "\n",
    "    # Calculate the Coriolis matrix C(q, dq)\n",
    "    C = np.array([[-m2*l1*r2*np.sin(q[1])*dq[1], -m2*l1*r2*np.sin(q[1])*(dq[0]+dq[1])],\n",
    "                  [m2*l1*r2*np.sin(q[1])*dq[0], 0]])\n",
    " \n",
    "    # Calculate the gravity vector\n",
    "    G = np.array([[m1*g*r1*np.sin(q[0]) + m2*g*(l1*np.sin(q[0]) + r2*np.sin(q[0]+q[1]))],\n",
    "                  [m2*g*r2*np.sin(q[0]+q[1])]])\n",
    "    \n",
    "    # Compute the system velocity\n",
    "    xdot1 = dq.reshape(2, 1)\n",
    "    \n",
    "    # Compute the system acceleration\n",
    "    xdot2 = np.linalg.inv(D) @ (u - C @ dq.reshape(2, 1) - G)\n",
    "    \n",
    "    xdot = np.concatenate((xdot1, xdot2), axis=1)\n",
    "\n",
    "    return xdot\n",
    "\n",
    "# Robot model using SS representation\n",
    "# Initial conditions\n",
    "x0 = np.array([[0, 0], [0, 0]])\n",
    "\n",
    "n = 100 # Number of time points\n",
    "t = np.linspace(0, 10, n) # Time points\n",
    "\n",
    "# Control inputs as sine waves\n",
    "u1 = np.sin(t)\n",
    "u2 = np.sin(2*t)\n",
    "\n",
    "u = np.array([u1, u2])\n",
    "\n",
    "# Extracting positions and velocities\n",
    "q  = np.empty((n,2))\n",
    "dq = np.empty((n,2))\n",
    "\n",
    "# Recording initial conditions\n",
    "q[0,:]  = x0[0,0]\n",
    "dq[0,:] = x0[0,1]\n",
    "\n",
    "for i in range(1, n):\n",
    "    tspan = [t[i - 1], t[i]]\n",
    "    x = odeintw(model, x0, tspan, args=(u[:,i],))\n",
    "\n",
    "    q[i, :] = x[1][0,:]\n",
    "    dq[i, :] = x[1][1,:]\n",
    "\n",
    "    # next initial condition\n",
    "    x0 = x[1]\n",
    "\n",
    "# Plot results\n",
    "plt.figure()\n",
    "\n",
    "plt.subplot(3, 1, 1)\n",
    "plt.plot(t, u[:, 0], 'g:', label='u1(t)')\n",
    "plt.plot(t, u[:, 1], 'g--', label='u2(t)')\n",
    "plt.ylabel('Control Input')\n",
    "plt.legend(loc='best')\n",
    "\n",
    "plt.subplot(3, 1, 2)\n",
    "plt.plot(t, q[:, 0], 'b-', label='q1(t)')\n",
    "plt.plot(t, q[:, 1], 'b--', label='q2(t)')\n",
    "plt.ylabel('Positions')\n",
    "plt.legend(loc='best')\n",
    "\n",
    "plt.subplot(3, 1, 3)\n",
    "plt.plot(t, dq[:, 0], 'r-', label='dq1(t)')\n",
    "plt.plot(t, dq[:, 1], 'r--', label='dq2(t)')\n",
    "plt.ylabel('Velocities')\n",
    "plt.xlabel('Time')\n",
    "plt.legend(loc='best')\n",
    "\n",
    "plt.tight_layout()\n",
    "plt.show()"
   ]
  },
  {
   "cell_type": "code",
   "execution_count": 8,
   "id": "78213960-1ed6-4a72-89b3-64edfc4e9bec",
   "metadata": {},
   "outputs": [
    {
     "ename": "ValueError",
     "evalue": "cannot reshape array of size 200 into shape (100,1)",
     "output_type": "error",
     "traceback": [
      "\u001b[1;31m---------------------------------------------------------------------------\u001b[0m",
      "\u001b[1;31mValueError\u001b[0m                                Traceback (most recent call last)",
      "Cell \u001b[1;32mIn[8], line 2\u001b[0m\n\u001b[0;32m      1\u001b[0m \u001b[38;5;66;03m############### animation \u001b[39;00m\n\u001b[1;32m----> 2\u001b[0m q \u001b[38;5;241m=\u001b[39m q\u001b[38;5;241m.\u001b[39mreshape(n,\u001b[38;5;241m1\u001b[39m)\n\u001b[0;32m      3\u001b[0m l \u001b[38;5;241m=\u001b[39m \u001b[38;5;241m1\u001b[39m\n\u001b[0;32m      4\u001b[0m robot \u001b[38;5;241m=\u001b[39m DHRobot([ RevoluteMDH(alpha\u001b[38;5;241m=\u001b[39mm\u001b[38;5;241m.\u001b[39mpi\u001b[38;5;241m/\u001b[39m\u001b[38;5;241m2\u001b[39m, offset\u001b[38;5;241m=\u001b[39mm\u001b[38;5;241m.\u001b[39mpi\u001b[38;5;241m/\u001b[39m\u001b[38;5;241m2\u001b[39m), RevoluteMDH(d\u001b[38;5;241m=\u001b[39ml, alpha\u001b[38;5;241m=\u001b[39mm\u001b[38;5;241m.\u001b[39mpi\u001b[38;5;241m/\u001b[39m\u001b[38;5;241m2\u001b[39m), ], base\u001b[38;5;241m=\u001b[39mSE3(\u001b[38;5;241m0.6\u001b[39m, \u001b[38;5;241m0\u001b[39m, \u001b[38;5;241m0\u001b[39m), name \u001b[38;5;241m=\u001b[39m \u001b[38;5;124m'\u001b[39m\u001b[38;5;124m2DOF robot\u001b[39m\u001b[38;5;124m'\u001b[39m)\n",
      "\u001b[1;31mValueError\u001b[0m: cannot reshape array of size 200 into shape (100,1)"
     ]
    }
   ],
   "source": [
    "############### animation \n",
    "q = q.reshape(n,1)\n",
    "l = 1\n",
    "robot = DHRobot([ RevoluteMDH(alpha=m.pi/2, offset=m.pi/2), RevoluteMDH(d=l, alpha=m.pi/2), ], base=SE3(0.6, 0, 0), name = '2DOF robot')\n",
    "zers  = np.zeros_like(q)\n",
    "coord = np.concatenate((q,zers),axis=1)\n",
    "robot.plot(coord, movie='1dof.gif', dt=tf/n, shadow=False)"
   ]
  },
  {
   "cell_type": "code",
   "execution_count": null,
   "id": "e36cd3b3",
   "metadata": {},
   "outputs": [],
   "source": []
  }
 ],
 "metadata": {
  "kernelspec": {
   "display_name": "Python 3 (ipykernel)",
   "language": "python",
   "name": "python3"
  },
  "language_info": {
   "codemirror_mode": {
    "name": "ipython",
    "version": 3
   },
   "file_extension": ".py",
   "mimetype": "text/x-python",
   "name": "python",
   "nbconvert_exporter": "python",
   "pygments_lexer": "ipython3",
   "version": "3.11.5"
  }
 },
 "nbformat": 4,
 "nbformat_minor": 5
}
