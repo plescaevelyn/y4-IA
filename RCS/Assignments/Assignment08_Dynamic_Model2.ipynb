{
 "cells": [
  {
   "cell_type": "markdown",
   "id": "2679f5fa-4526-4ea1-a96d-5f4b3e5e9e58",
   "metadata": {
    "tags": []
   },
   "source": [
    "Consider the 2DOF robotic structure from the figure below, for which $L1=L2=1 \\;m$, $m1=m2=1\\;kg$. The q1 and q2 initial conditions are $\\pi$/4 and 1.\n",
    "  \n",
    "* Find the forward kinematics model using the D-H convention and create the robot using the robotics toolbox library DHRobot.\n",
    "* Compute the C, D, and G matrices.    \n",
    "* Implement in Python the robot model using the state space representation, with [odeintw](https://github.com/WarrenWeckesser/odeintw) (wrapper of odeint for working with matrices) for solving the MIMO diferential equations. Give two sine waves as the input joint torques.  \n",
    "* Plot the positions and velocities compared with the inputs. Interpret the results.\n",
    "\n",
    "<img src=\"../artwork/DynMod/2DOFstud.png\" width=50% />"
   ]
  },
  {
   "cell_type": "code",
   "execution_count": 8,
   "id": "ac540268",
   "metadata": {},
   "outputs": [
    {
     "name": "stdout",
     "output_type": "stream",
     "text": [
      "Requirement already satisfied: odeintw in c:\\users\\evely\\anaconda3\\lib\\site-packages (1.0.0)\n",
      "Requirement already satisfied: scipy in c:\\users\\evely\\anaconda3\\lib\\site-packages (from odeintw) (1.11.3)\n",
      "Requirement already satisfied: numpy<1.28.0,>=1.21.6 in c:\\users\\evely\\anaconda3\\lib\\site-packages (from scipy->odeintw) (1.24.3)\n"
     ]
    }
   ],
   "source": [
    "!pip install odeintw"
   ]
  },
  {
   "cell_type": "code",
   "execution_count": 18,
   "id": "5de1c0b5-bb8a-4b4e-bd21-a54d4638c600",
   "metadata": {
    "code_folding": [],
    "tags": []
   },
   "outputs": [
    {
     "ename": "ValueError",
     "evalue": "cannot reshape array of size 1 into shape (2,1)",
     "output_type": "error",
     "traceback": [
      "\u001b[1;31m---------------------------------------------------------------------------\u001b[0m",
      "\u001b[1;31mValueError\u001b[0m                                Traceback (most recent call last)",
      "Cell \u001b[1;32mIn[18], line 78\u001b[0m\n\u001b[0;32m     75\u001b[0m u_func \u001b[38;5;241m=\u001b[39m interp1d(t, u\u001b[38;5;241m.\u001b[39mT, kind\u001b[38;5;241m=\u001b[39m\u001b[38;5;124m'\u001b[39m\u001b[38;5;124mcubic\u001b[39m\u001b[38;5;124m'\u001b[39m, fill_value\u001b[38;5;241m=\u001b[39m\u001b[38;5;124m\"\u001b[39m\u001b[38;5;124mextrapolate\u001b[39m\u001b[38;5;124m\"\u001b[39m)\n\u001b[0;32m     77\u001b[0m \u001b[38;5;66;03m# Integrate the model over time using the interpolation function for u\u001b[39;00m\n\u001b[1;32m---> 78\u001b[0m x \u001b[38;5;241m=\u001b[39m odeint(model, x0, t, args\u001b[38;5;241m=\u001b[39m(u_func,))\n\u001b[0;32m     80\u001b[0m \u001b[38;5;66;03m# Extract positions and velocities\u001b[39;00m\n\u001b[0;32m     81\u001b[0m q \u001b[38;5;241m=\u001b[39m x[:, :\u001b[38;5;241m2\u001b[39m]\n",
      "File \u001b[1;32m~\\anaconda3\\Lib\\site-packages\\scipy\\integrate\\_odepack_py.py:242\u001b[0m, in \u001b[0;36modeint\u001b[1;34m(func, y0, t, args, Dfun, col_deriv, full_output, ml, mu, rtol, atol, tcrit, h0, hmax, hmin, ixpr, mxstep, mxhnil, mxordn, mxords, printmessg, tfirst)\u001b[0m\n\u001b[0;32m    240\u001b[0m t \u001b[38;5;241m=\u001b[39m copy(t)\n\u001b[0;32m    241\u001b[0m y0 \u001b[38;5;241m=\u001b[39m copy(y0)\n\u001b[1;32m--> 242\u001b[0m output \u001b[38;5;241m=\u001b[39m _odepack\u001b[38;5;241m.\u001b[39modeint(func, y0, t, args, Dfun, col_deriv, ml, mu,\n\u001b[0;32m    243\u001b[0m                          full_output, rtol, atol, tcrit, h0, hmax, hmin,\n\u001b[0;32m    244\u001b[0m                          ixpr, mxstep, mxhnil, mxordn, mxords,\n\u001b[0;32m    245\u001b[0m                          \u001b[38;5;28mint\u001b[39m(\u001b[38;5;28mbool\u001b[39m(tfirst)))\n\u001b[0;32m    246\u001b[0m \u001b[38;5;28;01mif\u001b[39;00m output[\u001b[38;5;241m-\u001b[39m\u001b[38;5;241m1\u001b[39m] \u001b[38;5;241m<\u001b[39m \u001b[38;5;241m0\u001b[39m:\n\u001b[0;32m    247\u001b[0m     warning_msg \u001b[38;5;241m=\u001b[39m _msgs[output[\u001b[38;5;241m-\u001b[39m\u001b[38;5;241m1\u001b[39m]] \u001b[38;5;241m+\u001b[39m \u001b[38;5;124m\"\u001b[39m\u001b[38;5;124m Run with full_output = 1 to get quantitative information.\u001b[39m\u001b[38;5;124m\"\u001b[39m\n",
      "Cell \u001b[1;32mIn[18], line 20\u001b[0m, in \u001b[0;36mmodel\u001b[1;34m(x, t, u)\u001b[0m\n\u001b[0;32m     18\u001b[0m \u001b[38;5;28;01mdef\u001b[39;00m \u001b[38;5;21mmodel\u001b[39m(x, t, u):\n\u001b[0;32m     19\u001b[0m     \u001b[38;5;66;03m# Reshape input for matrix operations\u001b[39;00m\n\u001b[1;32m---> 20\u001b[0m     u \u001b[38;5;241m=\u001b[39m np\u001b[38;5;241m.\u001b[39marray(u)\u001b[38;5;241m.\u001b[39mreshape(\u001b[38;5;241m2\u001b[39m, \u001b[38;5;241m1\u001b[39m)\n\u001b[0;32m     22\u001b[0m     \u001b[38;5;66;03m# Extract positions and velocities\u001b[39;00m\n\u001b[0;32m     23\u001b[0m     q \u001b[38;5;241m=\u001b[39m x[:\u001b[38;5;241m2\u001b[39m]  \u001b[38;5;66;03m# Positions\u001b[39;00m\n",
      "\u001b[1;31mValueError\u001b[0m: cannot reshape array of size 1 into shape (2,1)"
     ]
    }
   ],
   "source": [
    "%reset -f\n",
    "import numpy as np\n",
    "import matplotlib.pyplot as plt\n",
    "import roboticstoolbox as rtb\n",
    "import math as m\n",
    "from roboticstoolbox import *\n",
    "from spatialmath import *\n",
    "from spatialmath.base import * \n",
    "from lab_functions import lim_prismatic\n",
    "from odeintw import *\n",
    "from scipy.interpolate import *\n",
    "from scipy.integrate import odeint\n",
    "\n",
    "##########  2C, 2D ############\n",
    "\n",
    "pr_lim = 10\n",
    "\n",
    "def model(x, t, u):\n",
    "    # Reshape input for matrix operations\n",
    "    u = np.array(u).reshape(2, 1)\n",
    "    \n",
    "    # Extract positions and velocities\n",
    "    q = x[:2]  # Positions\n",
    "    dq = x[2:]  # Velocities\n",
    "    \n",
    "    # Apply prismatic joint limit\n",
    "    lim_prismatic(q, dq, pr_lim)\n",
    "    \n",
    "    # Define the robot's physical parameters\n",
    "    m1 = 1  # Mass of link 1\n",
    "    m2 = 1  # Mass of link 2\n",
    "    l1 = 1  # Length of link 1\n",
    "    l2 = 1  # Length of link 2\n",
    "    r1 = l1 / 2  # Distance from joint axis to center of mass of link 1\n",
    "    r2 = l2 / 2  # Distance from joint axis to center of mass of link 2\n",
    "    I1 = m1 * l1**2 / 12  # Moment of inertia of link 1\n",
    "    I2 = m2 * l2**2 / 12  # Moment of inertia of link 2\n",
    "    g = 9.81  # Acceleration due to gravity\n",
    "    \n",
    "    # Calculate the inertia matrix D(q)\n",
    "    D = np.array([[I1 + m2*l1**2 + 2*m2*l1*r2*np.cos(q[1]), I2 + m2*l1*r2*np.cos(q[1])],\n",
    "                  [I2 + m2*l1*r2*np.cos(q[1]), I2]])\n",
    "    \n",
    "    # Calculate the Coriolis matrix C(q, dq)\n",
    "    C = np.array([[-m2*l1*r2*np.sin(q[1])*dq[1], -m2*l1*r2*np.sin(q[1])*(dq[0]+dq[1])],\n",
    "                  [m2*l1*r2*np.sin(q[1])*dq[0], 0]])\n",
    "    \n",
    "    # Calculate the gravity vector G(q)\n",
    "    G = np.array([[m1*g*r1*np.sin(q[0]) + m2*g*(l1*np.sin(q[0]) + r2*np.sin(q[0]+q[1]))],\n",
    "                  [m2*g*r2*np.sin(q[0]+q[1])]])\n",
    "    \n",
    "    # Inverse of inertia matrix\n",
    "    D_inv = np.linalg.inv(D)\n",
    "    \n",
    "    # Compute the system acceleration (ddq)\n",
    "    ddq = D_inv @ (u - C @ dq.reshape(2, 1) - G)\n",
    "    \n",
    "    # Combine the velocities and accelerations to form the state derivative\n",
    "    xdot = np.concatenate((dq.reshape(2, 1), ddq), axis=0)\n",
    "    \n",
    "    return xdot.flatten()\n",
    "\n",
    "# Initial conditions\n",
    "x0 = np.array([0, 0, 0, 0])\n",
    "\n",
    "n = 100 # Number of time points\n",
    "t = np.linspace(0, 10, n) # Time points\n",
    "\n",
    "# Control inputs as sine waves\n",
    "u1 = np.sin(t)\n",
    "u2 = np.sin(2*t)\n",
    "u = np.vstack((u1, u2)).T\n",
    "\n",
    "# Create interpolation functions for the control inputs\n",
    "u_func = interp1d(t, u.T, kind='cubic', fill_value=\"extrapolate\")\n",
    "\n",
    "# Integrate the model over time using the interpolation function for u\n",
    "x = odeint(model, x0, t, args=(u_func,))\n",
    "\n",
    "# Extract positions and velocities\n",
    "q = x[:, :2]\n",
    "dq = x[:, 2:]\n",
    "\n",
    "# Plot results0\n",
    "plt.figure()\n",
    "\n",
    "plt.subplot(3, 1, 1)\n",
    "plt.plot(t, u[:, 0], 'g:', label='u1(t)')\n",
    "plt.plot(t, u[:, 1], 'g--', label='u2(t)')\n",
    "plt.ylabel('Control Input')\n",
    "plt.legend(loc='best')\n",
    "\n",
    "plt.subplot(3, 1, 2)\n",
    "plt.plot(t, q[:, 0], 'b-', label='q1(t)')\n",
    "plt.plot(t, q[:, 1], 'b--', label='q2(t)')\n",
    "plt.ylabel('Positions')\n",
    "plt.legend(loc='best')\n",
    "\n",
    "plt.subplot(3, 1, 3)\n",
    "plt.plot(t, dq[:, 0], 'r-', label='dq1(t)')\n",
    "plt.plot(t, dq[:, 1], 'r--', label='dq2(t)')\n",
    "plt.ylabel('Velocities')\n",
    "plt.xlabel('Time')\n",
    "plt.legend(loc='best')\n",
    "\n",
    "plt.tight_layout()\n",
    "plt.show()"
   ]
  },
  {
   "cell_type": "code",
   "execution_count": 12,
   "id": "78213960-1ed6-4a72-89b3-64edfc4e9bec",
   "metadata": {},
   "outputs": [
    {
     "ename": "NameError",
     "evalue": "name 'q' is not defined",
     "output_type": "error",
     "traceback": [
      "\u001b[1;31m---------------------------------------------------------------------------\u001b[0m",
      "\u001b[1;31mNameError\u001b[0m                                 Traceback (most recent call last)",
      "Cell \u001b[1;32mIn[12], line 2\u001b[0m\n\u001b[0;32m      1\u001b[0m \u001b[38;5;66;03m############### animation \u001b[39;00m\n\u001b[1;32m----> 2\u001b[0m q \u001b[38;5;241m=\u001b[39m q\u001b[38;5;241m.\u001b[39mreshape(n,\u001b[38;5;241m1\u001b[39m)\n\u001b[0;32m      3\u001b[0m l \u001b[38;5;241m=\u001b[39m \u001b[38;5;241m1\u001b[39m\n\u001b[0;32m      4\u001b[0m robot \u001b[38;5;241m=\u001b[39m DHRobot([ RevoluteMDH(alpha\u001b[38;5;241m=\u001b[39mm\u001b[38;5;241m.\u001b[39mpi\u001b[38;5;241m/\u001b[39m\u001b[38;5;241m2\u001b[39m, offset\u001b[38;5;241m=\u001b[39mm\u001b[38;5;241m.\u001b[39mpi\u001b[38;5;241m/\u001b[39m\u001b[38;5;241m2\u001b[39m), RevoluteMDH(d\u001b[38;5;241m=\u001b[39ml, alpha\u001b[38;5;241m=\u001b[39mm\u001b[38;5;241m.\u001b[39mpi\u001b[38;5;241m/\u001b[39m\u001b[38;5;241m2\u001b[39m), ], base\u001b[38;5;241m=\u001b[39mSE3(\u001b[38;5;241m0.6\u001b[39m, \u001b[38;5;241m0\u001b[39m, \u001b[38;5;241m0\u001b[39m), name \u001b[38;5;241m=\u001b[39m \u001b[38;5;124m'\u001b[39m\u001b[38;5;124m2DOF robot\u001b[39m\u001b[38;5;124m'\u001b[39m)\n",
      "\u001b[1;31mNameError\u001b[0m: name 'q' is not defined"
     ]
    }
   ],
   "source": [
    "############### animation \n",
    "q = q.reshape(n,1)\n",
    "l = 1\n",
    "robot = DHRobot([ RevoluteMDH(alpha=m.pi/2, offset=m.pi/2), RevoluteMDH(d=l, alpha=m.pi/2), ], base=SE3(0.6, 0, 0), name = '2DOF robot')\n",
    "zers  = np.zeros_like(q)\n",
    "coord = np.concatenate((q,zers),axis=1)\n",
    "robot.plot(coord, movie='1dof.gif', dt=tf/n, shadow=False)"
   ]
  },
  {
   "cell_type": "code",
   "execution_count": null,
   "id": "6adb83d5",
   "metadata": {},
   "outputs": [],
   "source": []
  }
 ],
 "metadata": {
  "kernelspec": {
   "display_name": "Python 3 (ipykernel)",
   "language": "python",
   "name": "python3"
  },
  "language_info": {
   "codemirror_mode": {
    "name": "ipython",
    "version": 3
   },
   "file_extension": ".py",
   "mimetype": "text/x-python",
   "name": "python",
   "nbconvert_exporter": "python",
   "pygments_lexer": "ipython3",
   "version": "3.11.5"
  }
 },
 "nbformat": 4,
 "nbformat_minor": 5
}
