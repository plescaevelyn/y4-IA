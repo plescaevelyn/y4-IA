{
 "cells": [
  {
   "cell_type": "markdown",
   "id": "2679f5fa-4526-4ea1-a96d-5f4b3e5e9e58",
   "metadata": {
    "tags": []
   },
   "source": [
    "Consider the 2DOF robotic structure from the figure below, for which $L1=L2=1 \\;m$, $m1=m2=1\\;kg$. The q1 and q2 initial conditions are $\\pi$/4 and 1.\n",
    "  \n",
    "* Find the forward kinematics model using the D-H convention and create the robot using the robotics toolbox library DHRobot.\n",
    "* Compute the C, D, and G matrices.    \n",
    "* Implement in Python the robot model using the state space representation, with [odeintw](https://github.com/WarrenWeckesser/odeintw) (wrapper of odeint for working with matrices) for solving the MIMO diferential equations. Give two sine waves as the input joint torques.  \n",
    "* Plot the positions and velocities compared with the inputs. Interpret the results.\n",
    "\n",
    "<img src=\"../artwork/DynMod/2DOFstud.png\" width=50% />"
   ]
  },
  {
   "cell_type": "code",
   "execution_count": 21,
   "id": "5de1c0b5-bb8a-4b4e-bd21-a54d4638c600",
   "metadata": {
    "code_folding": [],
    "tags": []
   },
   "outputs": [
    {
     "name": "stderr",
     "output_type": "stream",
     "text": [
      "C:\\Users\\UTCN-C12\\.conda\\envs\\rcs_labs\\lib\\site-packages\\scipy\\integrate\\odepack.py:247: ODEintWarning: Excess work done on this call (perhaps wrong Dfun type). Run with full_output = 1 to get quantitative information.\n",
      "  warnings.warn(warning_msg, ODEintWarning)\n"
     ]
    },
    {
     "data": {
      "image/png": "[encoded data removed]",
      "text/plain": [
       "<Figure size 432x288 with 3 Axes>"
      ]
     },
     "metadata": {},
     "output_type": "display_data"
    }
   ],
   "source": [
    "%reset -f\n",
    "import numpy as np\n",
    "import matplotlib.pyplot as plt\n",
    "import roboticstoolbox as rtb\n",
    "import math as m\n",
    "from roboticstoolbox import *\n",
    "from spatialmath import *\n",
    "from spatialmath.base import * \n",
    "from lab_functions import lim_prismatic\n",
    "from odeintw import *\n",
    "\n",
    "##########  2C, 2D ############\n",
    "\n",
    "pr_lim = 10\n",
    "\n",
    "def model(x,t,u):\n",
    "    u = u.reshape(2,1) # reshaping for mathematical operations\n",
    "    \n",
    "    q  = x[:,0]  #first column of states x, the positions\n",
    "    dq = x[:,1]  #second column of states x, the velocities\n",
    "    \n",
    "    lim_prismatic(q,dq,pr_lim) # This is called so that the prismatic joint gets a physical limit\n",
    "    \n",
    "    # Define the robot's physical parameters\n",
    "    m1 = 1  # Mass of link 1\n",
    "    m2 = 1  # Mass of link 2\n",
    "    l1 = 1  # Length of link 1\n",
    "    l2 = 1  # Length of link 2\n",
    "    r1 = l1 / 2  # Distance from joint axis to center of mass of link 1\n",
    "    r2 = l2 / 2  # Distance from joint axis to center of mass of link 2\n",
    "    I1 = m1 * l1**2 / 12  # Moment of inertia of link 1\n",
    "    I2 = m2 * l2**2 / 12  # Moment of inertia of link 2\n",
    "    g = 9.81  # Acceleration due to gravity\n",
    "    \n",
    "    # Calculate the inertia matrix D(q)\n",
    "    D = np.array([[I1 + m2*l1**2 + 2*m2*l1*r2*np.cos(q[1]), I2 + m2*l1*r2*np.cos(q[1])],\n",
    "                  [I2 + m2*l1*r2*np.cos(q[1]), I2]])\n",
    "\n",
    "    # Calculate the Coriolis matrix C(q, dq)\n",
    "    C = np.array([[-m2*l1*r2*np.sin(q[1])*dq[1], -m2*l1*r2*np.sin(q[1])*(dq[0]+dq[1])],\n",
    "                  [m2*l1*r2*np.sin(q[1])*dq[0], 0]])\n",
    " \n",
    "    # Calculate the gravity vector\n",
    "    G = np.array([[m1*g*r1*np.sin(q[0]) + m2*g*(l1*np.sin(q[0]) + r2*np.sin(q[0]+q[1]))],\n",
    "                  [m2*g*r2*np.sin(q[0]+q[1])]])\n",
    "    \n",
    "    # Compute the system velocity\n",
    "    xdot1 = dq.reshape(2, 1)\n",
    "    \n",
    "    # Compute the system acceleration\n",
    "    xdot2 = np.linalg.inv(D) @ (u - C @ dq.reshape(2, 1) - G)\n",
    "    \n",
    "    xdot = np.concatenate((xdot1, xdot2), axis=1)\n",
    "\n",
    "    return xdot\n",
    "\n",
    "# Robot model using SS representation\n",
    "# Initial conditions\n",
    "x0 = np.array([[0, 0], [0, 0]])\n",
    "\n",
    "n = 100 # Number of time points\n",
    "t = np.linspace(0, 10, n) # Time points\n",
    "\n",
    "# Control inputs as sine waves\n",
    "u1 = np.sin(t)\n",
    "u2 = np.sin(2*t)\n",
    "\n",
    "u = np.array([u1, u2])\n",
    "\n",
    "# Extracting positions and velocities\n",
    "q  = np.empty((n,2))\n",
    "dq = np.empty((n,2))\n",
    "\n",
    "# Recording initial conditions\n",
    "q[0,:]  = x0[0,0]\n",
    "dq[0,:] = x0[0,1]\n",
    "\n",
    "for i in range(1, n):\n",
    "    tspan = [t[i - 1], t[i]]\n",
    "    x = odeintw(model, x0, tspan, args=(u[:,i],))\n",
    "\n",
    "    q[i, :] = x[1][0,:]\n",
    "    dq[i, :] = x[1][1,:]\n",
    "\n",
    "    # next initial condition\n",
    "    x0 = x[1]\n",
    "    \n",
    "# Plot results\n",
    "plt.figure()\n",
    "plt.subplot(3, 1, 1)\n",
    "plt.plot(t, u[0, :], 'g:', label='u1(t)')\n",
    "plt.plot(t, u[1, :], 'g--', label='u2(t)')\n",
    "plt.ylabel('Control Input')\n",
    "plt.legend(loc='best')\n",
    "\n",
    "plt.subplot(3, 1, 2)\n",
    "plt.plot(t, q, 'b-', label='q1(t)')\n",
    "plt.plot(t, q, 'b--', label='q2(t)')\n",
    "plt.ylabel('Positions')\n",
    "plt.legend(loc='best')\n",
    "\n",
    "plt.subplot(3, 1, 3)\n",
    "plt.plot(t, dq, 'r-', label='dq1(t)')\n",
    "plt.plot(t, dq, 'r--', label='dq2(t)')\n",
    "plt.ylabel('Velocities')\n",
    "plt.xlabel('Time')\n",
    "plt.legend(loc='best')\n",
    "\n",
    "plt.tight_layout()\n",
    "plt.show()"
   ]
  },
  {
   "cell_type": "code",
   "execution_count": 26,
   "id": "78213960-1ed6-4a72-89b3-64edfc4e9bec",
   "metadata": {},
   "outputs": [
    {
     "ename": "ValueError",
     "evalue": "cannot reshape array of size 200 into shape (100,1)",
     "output_type": "error",
     "traceback": [
      "\u001b[1;31m---------------------------------------------------------------------------\u001b[0m",
      "\u001b[1;31mValueError\u001b[0m                                Traceback (most recent call last)",
      "\u001b[1;32m~\\AppData\\Local\\Temp/ipykernel_3328/2904977730.py\u001b[0m in \u001b[0;36m<module>\u001b[1;34m\u001b[0m\n\u001b[0;32m      1\u001b[0m \u001b[1;31m############### animation\u001b[0m\u001b[1;33m\u001b[0m\u001b[1;33m\u001b[0m\u001b[1;33m\u001b[0m\u001b[0m\n\u001b[1;32m----> 2\u001b[1;33m \u001b[0mq\u001b[0m \u001b[1;33m=\u001b[0m \u001b[0mq\u001b[0m\u001b[1;33m.\u001b[0m\u001b[0mreshape\u001b[0m\u001b[1;33m(\u001b[0m\u001b[0mn\u001b[0m\u001b[1;33m,\u001b[0m\u001b[1;36m1\u001b[0m\u001b[1;33m)\u001b[0m\u001b[1;33m\u001b[0m\u001b[1;33m\u001b[0m\u001b[0m\n\u001b[0m\u001b[0;32m      3\u001b[0m \u001b[0ml\u001b[0m \u001b[1;33m=\u001b[0m \u001b[1;36m1\u001b[0m\u001b[1;33m\u001b[0m\u001b[1;33m\u001b[0m\u001b[0m\n\u001b[0;32m      4\u001b[0m \u001b[0mrobot\u001b[0m \u001b[1;33m=\u001b[0m \u001b[0mDHRobot\u001b[0m\u001b[1;33m(\u001b[0m\u001b[1;33m[\u001b[0m \u001b[0mRevoluteMDH\u001b[0m\u001b[1;33m(\u001b[0m\u001b[0malpha\u001b[0m\u001b[1;33m=\u001b[0m\u001b[0mm\u001b[0m\u001b[1;33m.\u001b[0m\u001b[0mpi\u001b[0m\u001b[1;33m/\u001b[0m\u001b[1;36m2\u001b[0m\u001b[1;33m,\u001b[0m \u001b[0moffset\u001b[0m\u001b[1;33m=\u001b[0m\u001b[0mm\u001b[0m\u001b[1;33m.\u001b[0m\u001b[0mpi\u001b[0m\u001b[1;33m/\u001b[0m\u001b[1;36m2\u001b[0m\u001b[1;33m)\u001b[0m\u001b[1;33m,\u001b[0m \u001b[0mRevoluteMDH\u001b[0m\u001b[1;33m(\u001b[0m\u001b[0md\u001b[0m\u001b[1;33m=\u001b[0m\u001b[0ml\u001b[0m\u001b[1;33m,\u001b[0m \u001b[0malpha\u001b[0m\u001b[1;33m=\u001b[0m\u001b[0mm\u001b[0m\u001b[1;33m.\u001b[0m\u001b[0mpi\u001b[0m\u001b[1;33m/\u001b[0m\u001b[1;36m2\u001b[0m\u001b[1;33m)\u001b[0m\u001b[1;33m,\u001b[0m \u001b[1;33m]\u001b[0m\u001b[1;33m,\u001b[0m \u001b[0mbase\u001b[0m\u001b[1;33m=\u001b[0m\u001b[0mSE3\u001b[0m\u001b[1;33m(\u001b[0m\u001b[1;36m0.6\u001b[0m\u001b[1;33m,\u001b[0m \u001b[1;36m0\u001b[0m\u001b[1;33m,\u001b[0m \u001b[1;36m0\u001b[0m\u001b[1;33m)\u001b[0m\u001b[1;33m,\u001b[0m \u001b[0mname\u001b[0m \u001b[1;33m=\u001b[0m \u001b[1;34m'2DOF robot'\u001b[0m\u001b[1;33m)\u001b[0m\u001b[1;33m\u001b[0m\u001b[1;33m\u001b[0m\u001b[0m\n\u001b[0;32m      5\u001b[0m \u001b[0mzers\u001b[0m  \u001b[1;33m=\u001b[0m \u001b[0mnp\u001b[0m\u001b[1;33m.\u001b[0m\u001b[0mzeros_like\u001b[0m\u001b[1;33m(\u001b[0m\u001b[0mq\u001b[0m\u001b[1;33m)\u001b[0m\u001b[1;33m\u001b[0m\u001b[1;33m\u001b[0m\u001b[0m\n",
      "\u001b[1;31mValueError\u001b[0m: cannot reshape array of size 200 into shape (100,1)"
     ]
    }
   ],
   "source": [
    "############### animation \n",
    "q = q.reshape(n,1)\n",
    "l = 1\n",
    "robot = DHRobot([ RevoluteMDH(alpha=m.pi/2, offset=m.pi/2), RevoluteMDH(d=l, alpha=m.pi/2), ], base=SE3(0.6, 0, 0), name = '2DOF robot')\n",
    "zers  = np.zeros_like(q)\n",
    "coord = np.concatenate((q,zers),axis=1)\n",
    "robot.plot(coord, movie='1dof.gif', dt=tf/n, shadow=False)"
   ]
  },
  {
   "cell_type": "code",
   "execution_count": null,
   "id": "529b4c27",
   "metadata": {},
   "outputs": [],
   "source": []
  }
 ],
 "metadata": {
  "kernelspec": {
   "display_name": "Python 3 (ipykernel)",
   "language": "python",
   "name": "python3"
  },
  "language_info": {
   "codemirror_mode": {
    "name": "ipython",
    "version": 3
   },
   "file_extension": ".py",
   "mimetype": "text/x-python",
   "name": "python",
   "nbconvert_exporter": "python",
   "pygments_lexer": "ipython3",
   "version": "3.7.6"
  }
 },
 "nbformat": 4,
 "nbformat_minor": 5
}
