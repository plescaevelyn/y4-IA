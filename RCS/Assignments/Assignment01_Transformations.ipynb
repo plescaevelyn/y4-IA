{
 "cells": [
  {
   "cell_type": "markdown",
   "id": "9bc27c03-54a3-4a9c-b4bc-a07d3a9385b5",
   "metadata": {},
   "source": [
    "# Finding necessary resources\n",
    "\n",
    "With the help of the camera system, dr. Elena Vasilescu has managed to identify a very important package that dropped on the surface during the failed landing. If her calculations are correct, the package contains enough food supplies to last for a year, by which time she hopes to be either out of Mars, or have received help from Earth. The camera system reports that the package is located in the following coordinates: $X = -40 m$, $Y = -90 m$, and $Z = 200 m$. The coordinate frame of the box is rotated around the X axis of the camera by -90 degrees. These coordinates are relative to the camera. \n",
    "\n",
    "<img src=\"../artwork/stranded/mars_base_isometric_annotated.png\" width=90%/>\n",
    "\n",
    "She can only perform a short trip around the base, using one of the rovers that is equipped with a crane. That is why she needs to identify the location of the package accurately, so she can save time and reduce the risk of getting stranded out of the base.\n",
    "\n",
    "After checking the operations manual from the mission, dr. Vasilescu has determined that the camera system is located at $X = 54m$, $ Y = 220 m$, and $Z= 90 m$ away from her, and is rotated around her Z axis by 180 degrees, and around her X axis by 90 degrees.\n",
    "\n",
    "Can you help her find the location of the package relative to her base?\n",
    "\n",
    "What maneuvers does she need to perform with her crane to go from her base location to the box. The crane must be aligned with the coordinate system of the box in order to pick it up."
   ]
  },
  {
   "cell_type": "markdown",
   "id": "e948d8d8-cccf-4078-8df9-6199633b97e6",
   "metadata": {
    "jupyter": {
     "source_hidden": true
    }
   },
   "source": [
    "## Expand for help\n",
    "\n",
    "* Calculate the transformation from frame $V$ to frame $C$ as $R_V^C$\n",
    "* Transform the coordinates of the box $B$ from the frame of the camera $C$ ($B_C$) to the coordinates of the box on the frame of dr. Vasilescu ($P_V$) using equation 1.11"
   ]
  },
  {
   "cell_type": "code",
   "execution_count": 22,
   "id": "b83cccf9",
   "metadata": {},
   "outputs": [
    {
     "name": "stdout",
     "output_type": "stream",
     "text": [
      "[[ 1.000000e+00  0.000000e+00  0.000000e+00 -4.000000e+01]\n",
      " [ 0.000000e+00  6.123234e-17  1.000000e+00 -9.000000e+01]\n",
      " [ 0.000000e+00 -1.000000e+00  6.123234e-17  2.000000e+02]\n",
      " [ 0.000000e+00  0.000000e+00  0.000000e+00  1.000000e+00]]\n",
      "[[-1.00000000e+00 -7.49879891e-33  1.22464680e-16  5.40000000e+01]\n",
      " [ 1.22464680e-16 -6.12323400e-17  1.00000000e+00  2.20000000e+02]\n",
      " [ 0.00000000e+00  1.00000000e+00  6.12323400e-17  9.00000000e+01]\n",
      " [ 0.00000000e+00  0.00000000e+00  0.00000000e+00  1.00000000e+00]]\n",
      "[[-1.00000000e+00 -7.49879891e-33  1.22464680e-16  1.40000000e+01]\n",
      " [ 7.49879891e-33  1.00000000e+00  1.22464680e-16  1.42108547e-14]\n",
      " [-1.22464680e-16  1.22464680e-16 -1.00000000e+00 -2.00000000e+01]\n",
      " [ 0.00000000e+00  0.00000000e+00  0.00000000e+00  1.00000000e+00]]\n"
     ]
    }
   ],
   "source": [
    "from ipywidgets import interact, widgets\n",
    "from spatialmath.base import *\n",
    "import numpy as np\n",
    "\n",
    "xv = -40\n",
    "yv = -90\n",
    "zv = 200\n",
    "xc = 54\n",
    "yc = -220\n",
    "zc = 90\n",
    "\n",
    "\n",
    "Tpc = transl(xv, yv, zv)@trotx(-90, 'deg')\n",
    "print(Tpc)\n",
    "# calculate the transformation from frame V to frame C as Rvc\n",
    "Tcv = transl(xc, yc, zc)@trotz(180, 'deg')@trotx(90, 'deg')\n",
    "print(Tcv)\n",
    "\n",
    "#package with respect to vasilescu\n",
    "print(Tcv@Tpc)"
   ]
  },
  {
   "cell_type": "markdown",
   "id": "b9379d8f-49ff-45da-b5e6-6dda28eb0c98",
   "metadata": {},
   "source": [
    "# Back at home\n",
    "\n",
    "With the help of your instructor, connect to the robot arm on your desk and execute the cell below. Move around the sliders to get familiar with how the robot moves. Make sure you read the instructions on the desk, and keep them in mind. Robots can be dangerous, so let's be friendly with them ;)"
   ]
  },
  {
   "cell_type": "code",
   "execution_count": 1,
   "id": "31115015-d965-48af-b3ca-fbe9d553d51d",
   "metadata": {
    "code_folding": []
   },
   "outputs": [
    {
     "ename": "ModuleNotFoundError",
     "evalue": "No module named 'al5d_control'",
     "output_type": "error",
     "traceback": [
      "\u001b[1;31m---------------------------------------------------------------------------\u001b[0m",
      "\u001b[1;31mModuleNotFoundError\u001b[0m                       Traceback (most recent call last)",
      "\u001b[1;32m~\\AppData\\Local\\Temp/ipykernel_2764/2196649321.py\u001b[0m in \u001b[0;36m<module>\u001b[1;34m\u001b[0m\n\u001b[0;32m      1\u001b[0m \u001b[1;31m### Cell for sending commands to the AL5D robot ###\u001b[0m\u001b[1;33m\u001b[0m\u001b[1;33m\u001b[0m\u001b[1;33m\u001b[0m\u001b[0m\n\u001b[0;32m      2\u001b[0m \u001b[1;31m# Importing necessary modules\u001b[0m\u001b[1;33m\u001b[0m\u001b[1;33m\u001b[0m\u001b[1;33m\u001b[0m\u001b[0m\n\u001b[1;32m----> 3\u001b[1;33m \u001b[1;32mfrom\u001b[0m \u001b[0mal5d_control\u001b[0m \u001b[1;32mimport\u001b[0m \u001b[1;33m*\u001b[0m\u001b[1;33m\u001b[0m\u001b[1;33m\u001b[0m\u001b[0m\n\u001b[0m\u001b[0;32m      4\u001b[0m \u001b[1;32mfrom\u001b[0m \u001b[0mipywidgets\u001b[0m \u001b[1;32mimport\u001b[0m \u001b[0minteract\u001b[0m\u001b[1;33m,\u001b[0m \u001b[0mfixed\u001b[0m\u001b[1;33m\u001b[0m\u001b[1;33m\u001b[0m\u001b[0m\n\u001b[0;32m      5\u001b[0m \u001b[1;33m\u001b[0m\u001b[0m\n",
      "\u001b[1;31mModuleNotFoundError\u001b[0m: No module named 'al5d_control'"
     ]
    }
   ],
   "source": [
    "### Cell for sending commands to the AL5D robot ###\n",
    "# Importing necessary modules\n",
    "from al5d_control import *\n",
    "from ipywidgets import interact, fixed\n",
    "\n",
    "rrob = AL5DControl()\n",
    "interact(rrob.robot_control, q0=(-90,90), q1=(-90,90), q2=(-90,90), q3=(-90,90), q4=(-90,90), gripper=(-90,90), dq0=fixed(15),dq1=fixed(15),dq2=fixed(15),dq3=fixed(15), dq4=fixed(15), vel=fixed(False)) "
   ]
  },
  {
   "cell_type": "code",
   "execution_count": null,
   "id": "d5890eec",
   "metadata": {},
   "outputs": [],
   "source": []
  }
 ],
 "metadata": {
  "kernelspec": {
   "display_name": "Python 3 (ipykernel)",
   "language": "python",
   "name": "python3"
  },
  "language_info": {
   "codemirror_mode": {
    "name": "ipython",
    "version": 3
   },
   "file_extension": ".py",
   "mimetype": "text/x-python",
   "name": "python",
   "nbconvert_exporter": "python",
   "pygments_lexer": "ipython3",
   "version": "3.7.6"
  }
 },
 "nbformat": 4,
 "nbformat_minor": 5
}
