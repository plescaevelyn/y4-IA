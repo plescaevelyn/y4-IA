{
 "cells": [
  {
   "cell_type": "markdown",
   "id": "8c9773ef-047f-49f0-aff9-8ba20b52f63d",
   "metadata": {},
   "source": [
    "# Helping dr. Vasilescu\n",
    "\n",
    "As you saw in the previous laboratory, the MARS-O-HELP robot has the same kinematic structure as the AL5D robot manipulator you have on your desk. You can review its structure in the figure below.\n",
    "    \n",
    "   <center>\n",
    "        <figure>\n",
    "          <img src=\"../artwork/fkine/al5d.png\"  width=40%/>\n",
    "        </figure>\n",
    "        <figure>\n",
    "          <img src=\"../artwork/DH/AL5D_mdw.png\"  width=50%/>\n",
    "          <figcaption>AL5D robot and its schematic</figcaption>\n",
    "        </figure>\n",
    "        \n",
    "   </center>\n",
    "   \n",
    "After the MARS-O-HELP picked up the liquid nitrogen container, it has the following set of joint coordinates.\n",
    "\n",
    "$ q= \\begin{bmatrix} \\pi/6 & -\\pi/6 & \\pi/8 & 0 & 0 \\end{bmatrix} $ [rad]\n",
    "\n",
    "    a. Calculate the Jacobian of the AL5D model for the above set of joint coordinates, given the transformation matrices for each link (next cell)\n",
    "    b. Create the AL5D model from the robotic toolbox\n",
    "    c. Calculate the Jacobian for the same sets of joint coordinates below using the robotics toolbox.\n",
    "    d. Compare the results with your Jacobian for the same joint coordinates.\n",
    "    e. Calculate the resulting end-effector velocities (linear and angular) for this set of joint coordinates and joint velocities equal to:\n",
    "\n",
    "$ \\dot{q} = \\begin{bmatrix} 0.1 & 0.14 & 0.1. & 0.02 & 0.1  \\end{bmatrix} $ [rad/s]\n",
    "\n",
    "    f. Dr. Vasilescu needs to move the robot with a specific velocity along the Y-axis (0.2 m/s). The robot should not move in any other direction. What are the joint velocities required to achieve this motion."
   ]
  },
  {
   "cell_type": "markdown",
   "id": "d98c3f35-4e58-4928-8a31-c95ddcc1f74d",
   "metadata": {},
   "source": [
    "The transformation matrices for the AL5D robot stored in list `R`. The first element represents $R_0^1$, the second $R_0^2$, and the nth element $R_0^n$. You need to update variable `q` for the desired joint coordinates."
   ]
  },
  {
   "cell_type": "code",
   "execution_count": 84,
   "id": "b71c6e0e-7ea9-4788-8428-1d7ef812dc96",
   "metadata": {
    "code_folding": []
   },
   "outputs": [
    {
     "name": "stdout",
     "output_type": "stream",
     "text": [
      "Jacobian of the AL5D model: \n",
      " [[-0.103293114803349 0.0215564517100815 -0.130180771325968\n",
      "  0.00803796345422570 0]\n",
      " [-0.164468922911445 -0.0124456231975887 0.0751599033683610\n",
      "  -0.00464072036403358 0]\n",
      " [0 0.196080822776050 -0.122674520930449 0.00712189995797302 0]\n",
      " [5.55111512312578e-17 -0.500000000000000 0.500000000000000\n",
      "  -0.500000000000000 -0.527202862365669]\n",
      " [2.77555756156289e-17 -0.866025403784439 0.866025403784439\n",
      "  -0.866025403784439 0.304380714504360]\n",
      " [-1.00000000000000 0 0 0 0.793353340291235]]\n"
     ]
    },
    {
     "data": {
      "image/png": "[encoded data removed]",
      "text/latex": [
       "$\\displaystyle R^{1}_{0}$"
      ],
      "text/plain": [
       "R¹₀"
      ]
     },
     "metadata": {},
     "output_type": "display_data"
    },
    {
     "name": "stdout",
     "output_type": "stream",
     "text": [
      "⎡-0.866025403784439         0.5          0       0   ⎤\n",
      "⎢                                                    ⎥\n",
      "⎢       0.5          0.866025403784439   0       0   ⎥\n",
      "⎢                                                    ⎥\n",
      "⎢        0                   0          -1.0  0.06858⎥\n",
      "⎢                                                    ⎥\n",
      "⎣        0                   0           0      1.0  ⎦\n"
     ]
    },
    {
     "data": {
      "image/png": "[encoded data removed]",
      "text/latex": [
       "$\\displaystyle R^{2}_{0}$"
      ],
      "text/plain": [
       "R²₀"
      ]
     },
     "metadata": {},
     "output_type": "display_data"
    },
    {
     "name": "stdout",
     "output_type": "stream",
     "text": [
      "⎡0.437430139655675   -0.747432186168629         -0.5         -0.00173205080756888⎤\n",
      "⎢                                                                                ⎥\n",
      "⎢-0.252550408881859  0.431530173885449   -0.866025403784439         0.001        ⎥\n",
      "⎢                                                                                ⎥\n",
      "⎢0.863060347770897   0.505100817763719           0                 0.06858       ⎥\n",
      "⎢                                                                                ⎥\n",
      "⎣        0                   0                   0                   1.0         ⎦\n"
     ]
    },
    {
     "data": {
      "image/png": "[encoded data removed]",
      "text/latex": [
       "$\\displaystyle R^{3}_{0}$"
      ],
      "text/plain": [
       "R³₀"
      ]
     },
     "metadata": {},
     "output_type": "display_data"
    },
    {
     "name": "stdout",
     "output_type": "stream",
     "text": [
      "⎡0.548848270915586   -0.669899675707469         0.5         0.0614546713885903 ⎤\n",
      "⎢                                                                              ⎥\n",
      "⎢-0.316877696957374   0.38676675809975   0.866025403784439  -0.0363699904837146⎥\n",
      "⎢                                                                              ⎥\n",
      "⎢ -0.7735335161995   -0.633755393914748          0           0.194008560341545 ⎥\n",
      "⎢                                                                              ⎥\n",
      "⎣        0                   0                   0                  1.0        ⎦\n"
     ]
    },
    {
     "data": {
      "image/png": "[encoded data removed]",
      "text/latex": [
       "$\\displaystyle R^{4}_{0}$"
      ],
      "text/plain": [
       "R⁴₀"
      ]
     },
     "metadata": {},
     "output_type": "display_data"
    },
    {
     "name": "stdout",
     "output_type": "stream",
     "text": [
      "⎡ 0.68706414686945   -0.527202862365669         -0.5          0.158301176624629 ⎤\n",
      "⎢                                                                               ⎥\n",
      "⎢-0.396676670145617   0.30438071450436   -0.866025403784439  -0.0997321648243623⎥\n",
      "⎢                                                                               ⎥\n",
      "⎢0.608761429008721   0.793353340291235           0           0.0529701943328897 ⎥\n",
      "⎢                                                                               ⎥\n",
      "⎣        0                   0                   0                   1.0        ⎦\n"
     ]
    },
    {
     "data": {
      "image/png": "[encoded data removed]",
      "text/latex": [
       "$\\displaystyle R^{5}_{0}$"
      ],
      "text/plain": [
       "R⁵₀"
      ]
     },
     "metadata": {},
     "output_type": "display_data"
    },
    {
     "name": "stdout",
     "output_type": "stream",
     "text": [
      "⎡-0.68706414686945          -0.5         -0.527202862365669  0.163414517186714⎤\n",
      "⎢                                                                             ⎥\n",
      "⎢0.396676670145617   -0.866025403784439   0.30438071450436   -0.10268435337434⎥\n",
      "⎢                                                                             ⎥\n",
      "⎢-0.608761429008721          0           0.793353340291235   0.045275460285405⎥\n",
      "⎢                                                                             ⎥\n",
      "⎣        0                   0                   0                  1.0       ⎦\n"
     ]
    },
    {
     "data": {
      "image/png": "[encoded data removed]",
      "text/latex": [
       "$\\displaystyle R^{6}_{0}$"
      ],
      "text/plain": [
       "R⁶₀"
      ]
     },
     "metadata": {},
     "output_type": "display_data"
    },
    {
     "name": "stdout",
     "output_type": "stream",
     "text": [
      "⎡ 0.68706414686945          0.5         0.527202862365669  -0.163414517186714⎤\n",
      "⎢                                                                            ⎥\n",
      "⎢-0.396676670145617  0.866025403784439  -0.30438071450436   0.10268435337434 ⎥\n",
      "⎢                                                                            ⎥\n",
      "⎢-0.608761429008721          0          0.793353340291235  0.043275460285405 ⎥\n",
      "⎢                                                                            ⎥\n",
      "⎣        0                   0                  0                 1.0        ⎦\n"
     ]
    },
    {
     "data": {
      "text/plain": [
       "'Jacobian for the same sets of joint coordinates: '"
      ]
     },
     "metadata": {},
     "output_type": "display_data"
    },
    {
     "name": "stdout",
     "output_type": "stream",
     "text": [
      "⎡ [[-0.0126522698572975], [[-0.0995520289235174], [[-0.434283239265684] , [[-0.606879501547702],  [[0.124227194053708] ⎤\n",
      "⎢  [-0.0219143742239115]   [-0.159966580670287]    [-0.763370459257677]     [0.175167242299632]    [0.197586781712969] ⎥\n",
      "⎢ [-0.00721999999999999]   [0.00364682790425405]   [0.00457571394406447]    [0.799081351408138]   [-0.0114560222338054]⎥\n",
      "⎢  [-0.866025403784439]     [0.437430139655675]     [0.548848270915586]     [0.687064146869450]   [-0.687064146869450] ⎥\n",
      "⎢   [0.500000000000000]    [-0.252550408881859]    [-0.316877696957374]    [-0.396676670145617]    [0.396676670145617] ⎥\n",
      "⎣          [0]]            [0.863060347770897]]    [-0.773533516199500]]   [0.608761429008721]]   [-0.608761429008721]]⎦\n"
     ]
    },
    {
     "ename": "TypeError",
     "evalue": "unsupported operand type(s) for @: 'list' and 'list'",
     "output_type": "error",
     "traceback": [
      "\u001b[1;31m---------------------------------------------------------------------------\u001b[0m",
      "\u001b[1;31mTypeError\u001b[0m                                 Traceback (most recent call last)",
      "\u001b[1;32m<ipython-input-84-f6c836f64284>\u001b[0m in \u001b[0;36m<module>\u001b[1;34m\u001b[0m\n\u001b[0;32m     50\u001b[0m \u001b[1;31m# Calculate the resulting end-effector velocities (linear and angular) for the set of joint coordinates and joint velocities below\u001b[0m\u001b[1;33m\u001b[0m\u001b[1;33m\u001b[0m\u001b[1;33m\u001b[0m\u001b[0m\n\u001b[0;32m     51\u001b[0m \u001b[0mq_dot\u001b[0m \u001b[1;33m=\u001b[0m \u001b[1;33m[\u001b[0m\u001b[1;36m0.1\u001b[0m\u001b[1;33m,\u001b[0m \u001b[1;36m0.14\u001b[0m\u001b[1;33m,\u001b[0m \u001b[1;36m0.1\u001b[0m\u001b[1;33m,\u001b[0m \u001b[1;36m0.02\u001b[0m\u001b[1;33m,\u001b[0m \u001b[1;36m0.1\u001b[0m\u001b[1;33m]\u001b[0m\u001b[1;33m\u001b[0m\u001b[1;33m\u001b[0m\u001b[0m\n\u001b[1;32m---> 52\u001b[1;33m \u001b[0mksi\u001b[0m \u001b[1;33m=\u001b[0m \u001b[0mJ\u001b[0m\u001b[1;33m@\u001b[0m\u001b[0mq_dot\u001b[0m\u001b[1;33m\u001b[0m\u001b[1;33m\u001b[0m\u001b[0m\n\u001b[0m\u001b[0;32m     53\u001b[0m \u001b[0mdisplay\u001b[0m\u001b[1;33m(\u001b[0m\u001b[1;34m\"End-effector velocities for the given set of joint coordinates and joint velocities: \"\u001b[0m\u001b[1;33m)\u001b[0m\u001b[1;33m\u001b[0m\u001b[1;33m\u001b[0m\u001b[0m\n\u001b[0;32m     54\u001b[0m \u001b[0mpprint\u001b[0m\u001b[1;33m(\u001b[0m\u001b[0mksi\u001b[0m\u001b[1;33m)\u001b[0m\u001b[1;33m\u001b[0m\u001b[1;33m\u001b[0m\u001b[0m\n",
      "\u001b[1;31mTypeError\u001b[0m: unsupported operand type(s) for @: 'list' and 'list'"
     ]
    }
   ],
   "source": [
    "import roboticstoolbox as rtb\n",
    "import spatialmath.base.symbolic as sym\n",
    "from spatialmath.base import trotx, trotz, transl\n",
    "from spatialmath import SE3\n",
    "import numpy as np\n",
    "from sympy import *\n",
    "init_printing(num_columns=500)\n",
    "\n",
    "al5d = rtb.models.DH.AL5D_mdw() # create the AL5D model \n",
    "\n",
    "# initialisations\n",
    "pR = sym.symbol(\"R_0^1:7\")\n",
    "T = np.eye(4)\n",
    "R = []\n",
    "\n",
    "# loop for saving and printing the transformation matrices from the base to joint i in variable R\n",
    "q = np.array([np.pi/6, -np.pi/6, np.pi/8, 0, 0])\n",
    "\n",
    "# Calculate the Jacobian of the AL5D model for the above set of joint coordinates given the transformation matrices for each link (next cell)\n",
    "J = rob.jacob0(q)\n",
    "print(\"Jacobian of the AL5D model: \\n\", J)\n",
    "\n",
    "for i in [0,1,2,3,4]:   \n",
    "    display(pR[i])\n",
    "    T = T@rob.links[i].A(q[i]).A\n",
    "    R.append(T)\n",
    "    pprint(Matrix(R[i]))\n",
    "    \n",
    "display(pR[5])\n",
    "R.append(T*rob.tool)\n",
    "pprint(Matrix(T*rob.tool))\n",
    "\n",
    "# Calculate the Jacobian for the same sets of joint coordinates below using the robotics toolbox.\n",
    "z = []\n",
    "o = []\n",
    "o_n = R[5][:-1,-1]\n",
    "J_v = []\n",
    "J_w = []\n",
    "J = []\n",
    "for i in range(5):\n",
    "    z.append(R[i][:-1,0])\n",
    "    o.append(R[i][:-1,i-1])\n",
    "    J_v.append(np.cross(z[i], o_n - o[i]).reshape(3,1))\n",
    "    J_w.append(z[i].reshape(3,1))\n",
    "    J.append(np.concatenate((J_v[i], J_w[i]),axis = 0))\n",
    "    \n",
    "display(\"Jacobian for the same sets of joint coordinates: \")\n",
    "pprint(J)\n",
    "\n",
    "# Calculate the resulting end-effector velocities (linear and angular) for the set of joint coordinates and joint velocities below\n",
    "q_dot = [0.1, 0.14, 0.1, 0.02, 0.1]\n",
    "ksi = J@q_dot\n",
    "display(\"End-effector velocities for the given set of joint coordinates and joint velocities: \")\n",
    "pprint(ksi)\n",
    "\n",
    "# Dr. Vasilescu needs to move the robot with a specific velocity along the Y-axis (0.2 m/s). The robot should not move in any other direction. What are the joint velocities required to achieve this motion.\n",
    "q_double_dot = np.pinv(J) * ksi\n",
    "display(\"Joint velocities needed to acheive this motion: \")\n",
    "pprint(q_double_dot)"
   ]
  },
  {
   "cell_type": "code",
   "execution_count": 2,
   "id": "e5de3dd7-1e0c-481b-bbd0-62212285721a",
   "metadata": {},
   "outputs": [
    {
     "name": "stdout",
     "output_type": "stream",
     "text": [
      "\n",
      " x matrix is \n",
      " [[ 0  1  2  3  4]\n",
      " [ 5  6  7  8  9]\n",
      " [10 11 12 13 14]]\n",
      "\n",
      " element at line 1, column 3, is  8\n",
      "\n",
      " element 0 of matrix x is \n",
      "  [0 1 2 3 4]\n",
      "\n",
      " Line 0, elements from column 3 onwards are \n",
      "  [[3 4]]\n",
      "\n",
      " Elements from lines 0 to 1, columns 2 to 3 \n",
      " [[2 3]\n",
      " [7 8]]\n",
      "\n",
      " c1: \n",
      " [[-3  6 -3]] with shape  (1, 3)\n",
      "\n",
      " c2 \n",
      " [[-3]\n",
      " [ 6]\n",
      " [-3]]  with shape  (3, 1)\n",
      "\n",
      " c3 and c3 concatenated by line \n",
      " [[-3]\n",
      " [ 6]\n",
      " [-3]\n",
      " [-3]\n",
      " [ 6]\n",
      " [-3]]\n",
      "\n",
      " c3 and c3 concatenated by column \n",
      " [[-3 -3]\n",
      " [ 6  6]\n",
      " [-3 -3]]\n"
     ]
    }
   ],
   "source": [
    "###### PYTHON INDEXING #######\n",
    "import numpy as np\n",
    "\n",
    "x = np.array([[0, 1, 2, 3, 4],[5, 6, 7, 8, 9], [10,11,12,13,14]])\n",
    "\n",
    "# Element indexing is 0-based\n",
    "print(\"\\n x matrix is \\n\", x)\n",
    "print(\"\\n element at line 1, column 3, is \", x[1, 3])\n",
    "\n",
    "# Note that if one indexes a multidimensional array with fewer indices than dimensions,\n",
    "# one gets a subdimensional array. For example:\n",
    "print(\"\\n element 0 of matrix x is \\n \",x[0])\n",
    "\n",
    "# The basic slice syntax is i:j where i is the starting index, j is the stopping index.\n",
    "# Assume n is the number of elements in the dimension being sliced. \n",
    "# Then, if i is not given it defaults to 0 for k > 0 and n - 1 for k < 0 . \n",
    "\n",
    "print(\"\\n Line 0, elements from column 3 onwards are \\n \",x[0:1,3:])\n",
    "\n",
    "print(\"\\n Elements from lines 0 to 1, columns 2 to 3 \\n\", x[0:2,2:4])\n",
    "\n",
    "###### USEFUL METHODS #######\n",
    "# Calculating a cross product\n",
    "x_arr = np.array([[1,2,3]])\n",
    "y_arr = np.array([[4,5,6]])\n",
    "\n",
    "c1 = np.cross(x_arr, y_arr)\n",
    "\n",
    "print(\"\\n c1: \\n\", c1, \"with shape \", c1.shape)\n",
    "\n",
    "# reshaping\n",
    "c2 = c1.reshape((3, 1))\n",
    "print(\"\\n c2 \\n\", c2, \" with shape \", c2.shape)\n",
    "\n",
    "# transposing\n",
    "c3 = c1.T\n",
    "\n",
    "# concatenating vectors\n",
    "print(\"\\n c3 and c3 concatenated by line \\n\", np.concatenate((c3, c3), axis=0))\n",
    "print(\"\\n c3 and c3 concatenated by column \\n\", np.concatenate((c3, c3), axis=1))"
   ]
  },
  {
   "cell_type": "markdown",
   "id": "0b453ffb-3dff-4a41-ac1f-7a28b69de373",
   "metadata": {},
   "source": [
    "# Extra exercises (just for your satisfaction)\n",
    "    a. Using the cell below, give different velocity arguments in different scenarios and observe the robot's behaviour.\n",
    "    b. Using the cell at the end, place the robot in a specific configuration (using new pose option) and, using the interact, visually check for each of the axes the possible instantaneous linear and angular velocities (choosing one joint at a time)."
   ]
  },
  {
   "cell_type": "code",
   "execution_count": null,
   "id": "1455fa78-8761-4262-9ada-cac3ec6ac718",
   "metadata": {},
   "outputs": [],
   "source": [
    "## extra exercise point a  ##\n",
    "from al5d_control import *\n",
    "from ipywidgets import interact, fixed\n",
    "\n",
    "rrob = AL5DControl()\n",
    "interact(rrob.robot_control, q0=(-90,90), q1=(-90,90), q2=(-90,90), q3=(-90,90), q4=(-90,90), gripper=(-90,90), dq0=(9,90),dq1=(9,90),dq2=(9,90),dq3=(9,90), dq4=(9,90), vel=fixed(True)) "
   ]
  },
  {
   "cell_type": "code",
   "execution_count": null,
   "id": "d053e5ee-acf2-4df4-b51f-bd8d1ba4fe91",
   "metadata": {
    "code_folding": []
   },
   "outputs": [],
   "source": [
    "## extra exercise point b  ##\n",
    "from al5d_control import *\n",
    "from ipywidgets import interact_manual\n",
    "\n",
    "rrob = AL5DControl()\n",
    "interact_manual(rrob.inst_AL5D_velocities, q0=(-90,90),q1=(-90,90),q2=(-90,90),q3=(-90,90),q4=(-90,90), joint = ['new pose','q0', 'q1', 'q2', 'q3','q4']) "
   ]
  }
 ],
 "metadata": {
  "kernelspec": {
   "display_name": "Python 3",
   "language": "python",
   "name": "python3"
  },
  "language_info": {
   "codemirror_mode": {
    "name": "ipython",
    "version": 3
   },
   "file_extension": ".py",
   "mimetype": "text/x-python",
   "name": "python",
   "nbconvert_exporter": "python",
   "pygments_lexer": "ipython3",
   "version": "3.8.8"
  }
 },
 "nbformat": 4,
 "nbformat_minor": 5
}
