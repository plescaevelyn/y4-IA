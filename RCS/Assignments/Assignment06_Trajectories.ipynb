{
 "cells": [
  {
   "cell_type": "markdown",
   "id": "1e74f470-c7e0-4579-abcb-236de17e3b02",
   "metadata": {},
   "source": [
    "# Robots do it again!\n",
    "\n",
    "dr. Vasilescu calls her MARS-O-HELP robot to do its magic once more: The robot is capable of controlling its kinematics pretty reliably, so what if she makes it hold the antenna towards a communication satellite and follow its trajectory?\n",
    "\n",
    "<img src=\"../artwork/stranded/robot_holding_satellite_dish.png\" width=60% />\n",
    "\n",
    "## First task\n",
    "Using the code you constructed for the simulation in the [theory notebook for trajectories](../theory/lab06_Trajectories.ipynb), implement a line trajectory for the AL5D robot for the following starting and ending poses:\n",
    "    \n",
    "|Coord|Initial|Final|\n",
    "|-|-|-|\n",
    "|<td colspan=3>Position<td colspan=2>\n",
    "|X|0.16|0.18|\n",
    "|Y|0.22|-0.18|\n",
    "|Z|0.09|0.13|\n",
    "|<td colspan=3>Orientation (Euler 'zyx' angles) <td colspan=2>\n",
    "|roll|0|0|\n",
    "|pitch|20|-90|\n",
    "|yaw|0|10|\n",
    "    \n",
    "Then, execute the trajectory using the robot on your desk"
   ]
  },
  {
   "cell_type": "code",
   "execution_count": null,
   "id": "b6b290fc-fe3c-4644-a57f-2b9424ff8629",
   "metadata": {},
   "outputs": [],
   "source": [
    "# You should only execute this cell once!\n",
    "# If you execute it again, you need to restart the kernel and the robot\n",
    "from al5d_control import *\n",
    "\n",
    "# for sending the commands\n",
    "rrob = AL5DControl()"
   ]
  },
  {
   "cell_type": "code",
   "execution_count": null,
   "id": "67e26e69-22f4-4ca3-a763-a6c3bbe07f5c",
   "metadata": {},
   "outputs": [],
   "source": [
    "import time\n",
    "# Solve the ikine for the respective interpolated poses\n",
    "# The solution will be in radians!\n",
    "\n",
    "\n",
    "# Take the robot in the configuration for the starting pose\n",
    "rrob.robot_control(np.degrees(qs[0,0]),np.degrees(qs[0,1]),np.degrees(qs[0,2]),np.degrees(qs[0,3]),np.degrees(qs[0,4]),0)\n",
    "time.sleep(3)\n",
    "\n",
    "# Give degrees as input for the joint values\n",
    "for i in range(steps):\n",
    "    rrob.robot_control(np.degrees(qs[i,0]),np.degrees(qs[i,1]),np.degrees(qs[i,2]),np.degrees(qs[i,3]),np.degrees(qs[i,4]),0)\n",
    "    ti.sleep(0.1)"
   ]
  },
  {
   "cell_type": "markdown",
   "id": "4444c263-c5db-4154-bcbc-6dcf3efadd10",
   "metadata": {},
   "source": [
    "## Second task\n",
    "\n",
    "Calculate a series of poses so that the robot follows a trajectory of a circle on the XY plane, with radius $r=6cm$, and centre at $ X = 20cm$, $Y = 0cm$, and $Z = 4cm$. The end-effector should not be rotated w.r.t. the base frame (0 rotations). Then solve the inverse kinematics for those poses and send the resulting joint coordinates on the robot."
   ]
  },
  {
   "cell_type": "code",
   "execution_count": null,
   "id": "ee6c7d68-27ab-49d7-9bd3-6184cc8f913e",
   "metadata": {},
   "outputs": [],
   "source": [
    "from lab_functions import *\n",
    "import swift\n",
    "\n",
    "env = swift.Swift()\n",
    "env.launch(realtime=True, browser='notebook')\n",
    "\n",
    "al5d = rtb.models.URDF.AL5D_mdw()\n",
    "al5d.q = [0,0,0,0,0]\n",
    "\n",
    "arrived = False\n",
    "env.add(al5d)"
   ]
  }
 ],
 "metadata": {
  "kernelspec": {
   "display_name": "pythonRSC",
   "language": "python",
   "name": "pythonrsc"
  },
  "language_info": {
   "codemirror_mode": {
    "name": "ipython",
    "version": 3
   },
   "file_extension": ".py",
   "mimetype": "text/x-python",
   "name": "python",
   "nbconvert_exporter": "python",
   "pygments_lexer": "ipython3",
   "version": "3.11.5"
  }
 },
 "nbformat": 4,
 "nbformat_minor": 5
}
