{
 "cells": [
  {
   "cell_type": "markdown",
   "id": "4b8b2ee0-043a-419e-b919-2f8b32616a7e",
   "metadata": {},
   "source": [
    "# Help dr. Vasilescu\n",
    "\n",
    "What had gone wrong with dr. Vasilescu's approach, was the fact that the robot's controller was not robust enough to model changes. Meaning, that when the robot was holding something considerably heavy (e.g. satelite dish), the controller became unstable and the robot failed. You have to understand dynamic modelling so that you can help dr. Vasilescu calculate it for the MARS-O-HELP."
   ]
  },
  {
   "cell_type": "markdown",
   "id": "e8ab5eff-0c4a-416c-8ea8-a5134ec2ed58",
   "metadata": {},
   "source": [
    "## Proposed problem\n",
    "\n",
    "Consider the robotic structure from the figure below with only 1 degree of freedom, for which $l=1\\;m$, $m=1\\;kg$, and $I= \\begin{bmatrix} \\frac{1}{12} &0 &0 \\\\ 0 &0 &0\\\\ 0 &0 &\\frac{1}{12}\\end{bmatrix}$.  \n",
    "  \n",
    "    a. Compute the equation of motion for the robot based on the Euler-Lagrange formulation.\n",
    "    b. Implement the robot model in Python using the state space representation and odeint for solving the differential equation. Give the input torque as a sine wave. Interpret the results.\n",
    "\n",
    "<img src=\"../artwork/DynMod/1DOF.png\" width=50% />  "
   ]
  },
  {
   "cell_type": "code",
   "execution_count": null,
   "id": "e2d4a239-e6f3-49db-959a-a37d4324fd72",
   "metadata": {},
   "outputs": [],
   "source": [
    "%reset -f\n",
    "import numpy as np\n",
    "from scipy.integrate import odeint\n",
    "import matplotlib.pyplot as plt\n",
    "import roboticstoolbox as rtb\n",
    "from roboticstoolbox import *\n",
    "from spatialmath import *\n",
    "from spatialmath.base import * \n",
    "import math as m\n",
    "\n",
    "# the robot model\n",
    "def model(x,t,u):\n",
    "    # gravitational acceleration\n",
    "    g = 9.98\n",
    "    \n",
    "    # states\n",
    "    q  = x[0]\n",
    "    dq = x[1]\n",
    "    \n",
    "    xdot1 = \n",
    "    xdot2 = \n",
    "    xdot  = [xdot1,xdot2]\n",
    "    \n",
    "    return xdot\n",
    "\n",
    "# initial condition of the state variable\n",
    "x0 = [0,0]\n",
    "\n",
    "# number of time points\n",
    "n = 101\n",
    "\n",
    "# initial and final time (seconds)\n",
    "t0 = 0\n",
    "tf = 10\n",
    "\n",
    "# time points\n",
    "t = np.linspace(t0,tf,n)\n",
    "\n",
    "# input\n",
    "u = \n",
    "\n",
    "# store solution in an array like t\n",
    "q  = np.empty_like(t)\n",
    "dq = np.empty_like(t)\n",
    "\n",
    "# record initial conditions\n",
    "q[0]  = x0[0]\n",
    "dq[0] = x0[1]\n",
    "\n",
    "# solve ODE for each step\n",
    "for i in range(1,n):\n",
    "    # span/period for next time step\n",
    "    tspan = [t[i-1],t[i]]\n",
    "    # solve for next step\n",
    "    x = odeint(model,x0,tspan,args=(u[i],))\n",
    "    # store solution for plotting\n",
    "    q[i]  = x[1][0]\n",
    "    dq[i] = x[1][1]\n",
    "    # next initial condition\n",
    "    x0 = x[1]\n",
    "\n",
    "################ plot results\n",
    "plt.plot(t,u,'g:',label='u(t)')\n",
    "plt.plot(t,q,'b-',label='q(t)')\n",
    "plt.plot(t,dq,'r--',label='dq(t)')\n",
    "plt.ylabel('values')\n",
    "plt.xlabel('time')\n",
    "plt.legend(loc='best')\n",
    "plt.show()"
   ]
  },
  {
   "cell_type": "code",
   "execution_count": null,
   "id": "c863fa45-a5cd-4d50-8852-fac6ec324bab",
   "metadata": {},
   "outputs": [],
   "source": [
    "############### animation \n",
    "q = q.reshape(n,1)\n",
    "l = 1\n",
    "robot = DHRobot([ RevoluteMDH(alpha=m.pi/2, offset=m.pi/2), RevoluteMDH(d=l, alpha=m.pi/2), ], base=SE3(0.6, 0, 0), name = '1DOF robot')\n",
    "zers  = np.zeros_like(q)\n",
    "coord = np.concatenate((q,zers),axis=1)\n",
    "robot.plot(coord, movie='1dof.gif', dt=tf/n, shadow=False)"
   ]
  }
 ],
 "metadata": {
  "kernelspec": {
   "display_name": "Python3",
   "language": "python",
   "name": "python3"
  },
  "language_info": {
   "codemirror_mode": {
    "name": "ipython",
    "version": 3
   },
   "file_extension": ".py",
   "mimetype": "text/x-python",
   "name": "python",
   "nbconvert_exporter": "python",
   "pygments_lexer": "ipython3",
   "version": "3.11.5"
  }
 },
 "nbformat": 4,
 "nbformat_minor": 5
}
