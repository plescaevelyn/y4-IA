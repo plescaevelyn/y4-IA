{
 "cells": [
  {
   "cell_type": "markdown",
   "id": "9d3583d6-e445-4f4f-bf7c-23d626485f73",
   "metadata": {
    "slideshow": {
     "slide_type": ""
    },
    "tags": []
   },
   "source": [
    "# Transformations that can transform you\n",
    "\n",
    "In the compartment adjacent to dr. Vasilescu is a storage module, which contains a [RTG (Radioisotope Thermoelectric Generator)](https://en.wikipedia.org/wiki/Radioisotope_thermoelectric_generator) in a box, and a three robot arms that can handle the boxes.\n",
    "\n",
    "<img src=\"../artwork/stranded/robot_crane.png\" width=60%/>\n",
    "\n",
    "She has access to a control panel for the robots, which only reports on the values of their joint coordinates. However, she does not have visual information on which of the robots is currently in the position to pick the box. She needs to be very careful which robot to activate as not to damage the RTG unit or any of the other boxes. In the first case, it would mean a slow and painful radioactive death. In the second case, it might mean a really fast and equally painful death due to explosion.\n",
    "\n",
    "Luckily, she happens to have a model of the robotic cranes on her desk, and can therefore calculate the forward kinematics model. The robot model is identical to the AL5D robot you have on your own desk. \n",
    "\n",
    "<img src=\"../artwork/fkine/al5d.png\" width=60%/>\n",
    "\n",
    "She has calculated that the equivalent position of the RTG for her desk model would be at $X = 15.3 cm$, $Y = -2.1 cm$,  and $ Z = 41.9 cm$ (this is the position the AL5D needs to reach).\n",
    "\n",
    "The three robots are reporting the following set of joint coordinates (in degrees):\n",
    "\n",
    "|Robot|Robot 1| Robot 2| Robot 3|\n",
    "|-----|---|---|---|\n",
    "|$q_0$|10 |10 |30 |\n",
    "|$q_1$|-30|20 |25 |\n",
    "|$q_2$|30 |-20|-25|\n",
    "|$q_3$|45 |15 |5  |\n",
    "|$q_4$|10 |0  |30 |\n",
    "\n",
    "Which of these robots is the one she should activate for manipulating the RTG unit? Calculate the forward kinematics of the AL5D and use the coordinates for each robot to find the correct answer.\n",
    "\n",
    "Verify the result by moving the AL5D of your desk to the target coordinates."
   ]
  },
  {
   "cell_type": "markdown",
   "id": "3716e912-8cf1-470e-91cd-d38ee41e1885",
   "metadata": {
    "jupyter": {
     "source_hidden": true
    }
   },
   "source": [
    "# Expand for help\n",
    "\n",
    "Consider the AL5D robot from the figure above\n",
    "\n",
    "- Measure the lengths A, B, C, D and E on your robot.\n",
    "- Draw the schematic structure of the robot.\n",
    "- Determine the forward kinematics using homogeneous transformation matrices. Use the spatialmath helper functions for calculating and multiplying the matrices.\n",
    "- Calculate the position obtained by imposing the joint coordinates from the table.\n",
    "- Figure out which robot is at the desired pose."
   ]
  },
  {
   "cell_type": "code",
   "execution_count": 24,
   "id": "3aa158d7-cb67-45df-bd04-e94fe30f5a01",
   "metadata": {
    "scrolled": true,
    "slideshow": {
     "slide_type": ""
    },
    "tags": []
   },
   "outputs": [
    {
     "name": "stdout",
     "output_type": "stream",
     "text": [
      "[[ 0.95125124  0.12674941  0.28116839 28.15674671]\n",
      " [-0.16773126  0.97765066  0.12674941 -4.96479413]\n",
      " [-0.25881905 -0.16773126  0.95125124  0.43006984]\n",
      " [ 0.          0.          0.          1.        ]]\n",
      "\n",
      "[[ 0.56486252  0.17364818 -0.80670728 16.05971255]\n",
      " [-0.0996005   0.98480775  0.14224426 -2.83176063]\n",
      " [ 0.81915204  0.          0.57357644 43.13817843]\n",
      " [ 0.          0.          0.          1.        ]]\n",
      "\n",
      "[[ 0.49673176  0.78771594 -0.36436403 11.0475465 ]\n",
      " [-0.28678822  0.54521199  0.78771594 -6.37830395]\n",
      " [ 0.81915204 -0.28678822  0.49673176 44.97928576]\n",
      " [ 0.          0.          0.          1.        ]]\n",
      "\n"
     ]
    }
   ],
   "source": [
    "# Code your solution here!\n",
    "from spatialmath.base import *\n",
    "from spatialmath import *\n",
    "import spatialmath.base.symbolic as sym\n",
    "from sympy import *\n",
    "\n",
    "# Defining the joint coordinates symbols\n",
    "#q0, q1, q2, q3, q4, q5 = sym.symbol('q0, q1, q2, q3, q4, q5')\n",
    "\n",
    "# the position AL5D needs to reach\n",
    "x = 15.3\n",
    "y = -2.1\n",
    "z = 41.9\n",
    "\n",
    "# lengths of our robot\n",
    "a = 7\n",
    "b = 15\n",
    "c = 19\n",
    "d = 6\n",
    "e = 6\n",
    "\n",
    "q1 = [10, 10, 30]\n",
    "q2 = [-30, 20, 25]\n",
    "q3 = [30, -20, -25]\n",
    "q4 = [45, 15, 5]\n",
    "q5 = [10, 0, 30]\n",
    "\n",
    "for counter in range(0, 3):\n",
    "    # homogeneous transformation matrices\n",
    "    Tr1 = trotz(-q1[counter],'deg')@transl(0,0,a)\n",
    "    T12 = troty(-q2[counter],'deg')@transl(0,0,b)\n",
    "    T23 = troty(q3[counter],'deg')@transl(c,0,0)\n",
    "    T34 = troty(-q4[counter],'deg')@transl(d,0,0)\n",
    "    T4ee = trotx(-q5[counter],'deg')@transl(e,0,0)\n",
    "\n",
    "    Tree = Tr1@T12@T23@T34@T4ee\n",
    "    print(Tree)\n",
    "    print()\n",
    "    \n",
    "# robot number 2 is at the desired pose"
   ]
  },
  {
   "cell_type": "code",
   "execution_count": 1,
   "id": "aca63737-30e4-49c1-9274-35adf285adde",
   "metadata": {
    "code_folding": [],
    "slideshow": {
     "slide_type": ""
    },
    "tags": []
   },
   "outputs": [
    {
     "name": "stdout",
     "output_type": "stream",
     "text": [
      "No device connected on  /dev/ttyUSB0\n",
      "No device connected on  /dev/ttyUSB1\n",
      "Device connected on  COM1\n",
      "No device connected on  COM2\n",
      "No device connected on  COM3\n",
      "Device connected on  COM4\n",
      "No device connected on  COM5\n",
      "No device connected on  COM6\n",
      "No device connected on  COM7\n",
      "No device connected on  COM8\n",
      "No device connected on  COM9\n"
     ]
    },
    {
     "data": {
      "application/vnd.jupyter.widget-view+json": {
       "model_id": "6e83f03fb2804cd291870940c2ba1942",
       "version_major": 2,
       "version_minor": 0
      },
      "text/plain": [
       "interactive(children=(IntSlider(value=0, description='q0', max=90, min=-90), IntSlider(value=0, description='q…"
      ]
     },
     "metadata": {},
     "output_type": "display_data"
    },
    {
     "data": {
      "text/plain": [
       "<function ipywidgets.widgets.interaction._InteractFactory.__call__.<locals>.<lambda>(*args, **kwargs)>"
      ]
     },
     "execution_count": 1,
     "metadata": {},
     "output_type": "execute_result"
    }
   ],
   "source": [
    "### Cell for sending command to the AL5D ###\n",
    "from al5d_control import *\n",
    "from ipywidgets import interact, fixed\n",
    "\n",
    "rrob = AL5DControl()\n",
    "interact(rrob.robot_control, q0=(-90,90), q1=(-90,90), q2=(-90,90), q3=(-90,90), q4=(-90,90), gripper=(-90,90), dq0=fixed(15),dq1=fixed(15),dq2=fixed(15),dq3=fixed(15), dq4=fixed(15), vel=fixed(False)) "
   ]
  },
  {
   "cell_type": "code",
   "execution_count": null,
   "id": "3872649b",
   "metadata": {},
   "outputs": [],
   "source": []
  }
 ],
 "metadata": {
  "kernelspec": {
   "display_name": "Python 3 (ipykernel)",
   "language": "python",
   "name": "python3"
  },
  "language_info": {
   "codemirror_mode": {
    "name": "ipython",
    "version": 3
   },
   "file_extension": ".py",
   "mimetype": "text/x-python",
   "name": "python",
   "nbconvert_exporter": "python",
   "pygments_lexer": "ipython3",
   "version": "3.7.6"
  }
 },
 "nbformat": 4,
 "nbformat_minor": 5
}
