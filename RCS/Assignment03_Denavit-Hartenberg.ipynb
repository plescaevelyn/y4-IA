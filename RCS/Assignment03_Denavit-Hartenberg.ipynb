{
 "cells": [
  {
   "cell_type": "markdown",
   "id": "0eb6f9ab-8465-4a2a-b551-1711510449ed",
   "metadata": {},
   "source": [
    "# Proposed problems"
   ]
  },
  {
   "cell_type": "markdown",
   "id": "84583d38-619c-4d48-9a51-9c57b1424c7c",
   "metadata": {},
   "source": [
    "<img src=\"../artwork/fkine/al5d.png\"  width=40%/>\n",
    "<img src=\"../artwork/DH/AL5D_mdw.png\"  width=50%/>"
   ]
  },
  {
   "cell_type": "markdown",
   "id": "8fb9c637-2196-48ce-93fb-0ee8cdf7451e",
   "metadata": {},
   "source": [
    "1. Consider the AL5D robot from figure above:\n",
    "- Calculate the modified DH parameters of the robot. Measure A, B, C, D, E for defining the translations.\n",
    "- Define the robot model using the robotics toolbox.\n",
    "- Using the robotics toolbox, calculate the forward kinematics of the robot for the following set of joint coordinates = [pi/4, -pi/4, -pi/4, -pi/2, pi/2]\n",
    "- Draw the robot using the toolbox for the above-mentioned configuration\n",
    "- Apply the above-mentioned joint coordinates on the real robot.\n",
    "- Check if the calculated pose of the end-effector using the robot model correspond to the real coordinates."
   ]
  },
  {
   "cell_type": "code",
   "execution_count": null,
   "id": "3ad6893b-c7e3-495c-9d15-350de6d3c79b",
   "metadata": {},
   "outputs": [],
   "source": [
    "# code your solution here!\n",
    "from robotictoolbox import *\n",
    "import numpy as np\n",
    "from math import *\n",
    "\n",
    "A = 7\n",
    "B = 15\n",
    "C = 19\n",
    "D = 6\n",
    "E = 6\n",
    "\n",
    "# Define the robot\n",
    "Link1 = DHLink(alpha = 0, d = , a = A, sigma = pi/4, mdh = 1, offset = )\n",
    "Link2 = DHLink(alpha = , d = , a = , sigma = -pi/4, mdh = 1, offset = )\n",
    "Link3 = DHLink(alpha = , d = , a = , sigma = -pi/4, mdh = 1, offset = )\n",
    "Link4 = DHLink(alpha = , d = , a = , sigma = -pi/2, mdh = 1, offset = )\n",
    "Link5 = DHLink(alpha = , d = , a = , sigma = pi/2, mdh = 1, offset = )\n",
    "\n",
    "robot = DHRobot([\n",
    "    Link1,\n",
    "    Link2,\n",
    "    Link3,\n",
    "    Link4,\n",
    "    Link5,\n",
    "    RevoluteMDH(d = )\n",
    "], name = \"Robotul nostru <3\")"
   ]
  },
  {
   "cell_type": "code",
   "execution_count": null,
   "id": "1897e056-1b06-435d-9ea4-16f8b8c87bc0",
   "metadata": {},
   "outputs": [],
   "source": [
    "### Cell for sending command to the AL5D ###\n",
    "from al5d_control import *\n",
    "from ipywidgets import interact, fixed\n",
    "\n",
    "rrob = AL5DControl()\n",
    "interact(rrob.robot_control, q0=(-90,90), q1=(-90,90), q2=(-90,90), q3=(-90,90), q4=(-90,90), gripper=(-90,90), dq0=fixed(15),dq1=fixed(15),dq2=fixed(15),dq3=fixed(15), dq4=fixed(15), vel=fixed(False)) "
   ]
  },
  {
   "cell_type": "markdown",
   "id": "33fa008f-3e8b-4f4b-89e8-0bb407d79ff4",
   "metadata": {},
   "source": [
    "2. __Extra exercise__ (just for your satisfaction): Consider the two robots from the figures below\n",
    "- Determine their direct geometric model of the robots using the DH convention.\n",
    "\n",
    "<img src=\"../artwork/DH/lego_robots-1.png\"  width=60% />"
   ]
  },
  {
   "cell_type": "code",
   "execution_count": 1,
   "id": "98eee7c3-c393-4400-939b-7c9495e4719b",
   "metadata": {},
   "outputs": [],
   "source": [
    "# Code your extra solutions here"
   ]
  }
 ],
 "metadata": {
  "kernelspec": {
   "display_name": "Python 3 (ipykernel)",
   "language": "python",
   "name": "python3"
  },
  "language_info": {
   "codemirror_mode": {
    "name": "ipython",
    "version": 3
   },
   "file_extension": ".py",
   "mimetype": "text/x-python",
   "name": "python",
   "nbconvert_exporter": "python",
   "pygments_lexer": "ipython3",
   "version": "3.7.6"
  }
 },
 "nbformat": 4,
 "nbformat_minor": 5
}
