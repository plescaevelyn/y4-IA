{
 "cells": [
  {
   "cell_type": "markdown",
   "metadata": {},
   "source": [
    "# Not what she had hoped for\n",
    "\n",
    "dr. Elena Vasilescu has finally got it! She is now confident that she understand dynamic modelling. She measured all the masses of the links, calculated the moments of inertia, accounted for the differences in gravity between Earth and Mass, and had the equations that could help her communicate with earth.\n",
    "\n",
    "<img src=\"../artwork/stranded/wondering_about_life.png\" width=60% />\n",
    "\n",
    "But what could she do with them? How could she control the robot so it follows the necessary trajectory to track the satelites?"
   ]
  },
  {
   "cell_type": "markdown",
   "metadata": {},
   "source": [
    "# Control design of a robot arm process\n",
    "\n",
    "## Independent Joint Control\n",
    "\n",
    "Independent joint control is the classical control approach, where a controller is designed for each individual joint (fig 10.1). The effect of other joints is considered as a disturbance that the controller has to reject.\n",
    "\n",
    "<br />\n",
    "<br />\n",
    "\n",
    "<center>\n",
    "    <figure class=\"image\">\n",
    "      <img src=\"../artwork/control/Control_1.png\" width=40% />\n",
    "      <figcaption>Independent joint control - PD controllers</figcaption>\n",
    "    </figure>\n",
    "</center>\n",
    "\n",
    "<br />\n",
    "<br />\n",
    "\n",
    "Let us first rewrite a 2DOF model in terms of each individual joint $i$ :\n",
    "\n",
    "$$ d_{ii}\\ddot{q}_i+c_{ii}\\dot{q}_i=\\tau_i-w_i , \\quad i=1,2,..,n $$\n",
    "\n",
    "where $d_{ii}$ includes only the constant diagonal terms of $D'(q)$, while the disturbance term $w_i$ includes all other $i^{th}$ terms of $D'(q)$, and $i^{th}$ components of $C(q,\\dot{q})$ and $G(q)$. It is important to notice that if the the Coriolis and centripetal terms are not very large, then the process dynamics can be approximated well by _n decoupled linear second-order systems_."
   ]
  },
  {
   "cell_type": "markdown",
   "metadata": {},
   "source": [
    "### Control problem\n",
    "\n",
    "Design a linear controller for each joint that ensure tracking ($q$ tracks a reference signal $q_r$) and disturbance \n",
    "rejection ($w_{p}$).\n",
    "\n",
    "Consider standard PD controllers\n",
    "$$ \\tau_i=K(K_{di}\\dot{e}_i+K_{pi}e_i) $$\n",
    "where $e_i$ represents the tracking error, defined as $e_i=q_{ri}-q_{i}$, and\n",
    "$\\dot{e}_i=\\dot{q}_{di}-\\dot{q}_{i}$ is the error of the derivatives.\n",
    "\n",
    "If we consider the case of set-point tracking, that is $\\dot{q}_{ri}=0$, and replace eq(2) in eq(1) we obtain:\n",
    "\n",
    "$$ d_{ii}\\ddot{q}_i(t)+(c_{ii}+KK_{di})\\dot{q}_i(t)+KK_{pi}q_i(t)=KK_{pi}q_{ri}(t)-w_{pi}(t) , \\quad i=1,2,..,n $$\n",
    "\n",
    "By applying the Laplace transform we get the transfer function relating the outputs ($q_i$) to the reference and disturbance inputs ($q_{ri}$ and $w_{pi}$):\n",
    "$$ q_i(s)=\\frac{KK_{pi}}{d_{ii}s^2+(c_{ii}+KK_{di})s+KK_{pi}}q_{ri}(s)-\\frac{1}{d_{ii}s^2+(c_{ii}+KK_{di})s+KK_{pi}}w_{pi}(s), \\quad i=1,2,..,n $$\n",
    "\n",
    "The characteristic equations are \n",
    "$$ {d_{ii}s^2+(c_{ii}+KK_{di})s+KK_{pi}} = 0 $$\n",
    "which can also be written as\n",
    "$$ s^2+\\frac{c_{ii}+KK_{di}}{d_{ii}}s+\\frac{ KK_{pi}}{d_{ii}}=0 $$\n",
    "\n",
    "Because the standard second order equation is given by\n",
    "$$ s^2+2 \\zeta_i \\omega_{ni}s+\\omega^2_{ni}=0 $$\n",
    "\n",
    "the controller parameters can be expressed in terms of damping ratio $\\zeta$ and natural frequency $\\omega_n$:\n",
    "\n",
    "$$ K_{pi}=\\frac{d_{ii}\\omega^2_{ni}}{K} , \\quad K_{di}=\\frac{2\\zeta_i \\omega_{ni} d_{ii}-c_{ii}}{K} $$\n",
    "\n",
    "Usually $\\zeta$ is set to 1 (critical damping), and $\\omega_n$ is chosen as high\n",
    "as possible. One possible limitation in the value adopted for $\\omega_n$ is the\n",
    "input torque $\\tau_i$ saturation.\n",
    "\n",
    "The control strategy proves very efficient in practice. If we further want to force a very small or null steady state error $e_{ss}$, then we can either adopt PID type controllers\n",
    "\n",
    "$$ \\tau_i=K_{di}\\dot{e}_i+K_{pi}e_i+K_{ii}\\int_{0}^{t} e\\,dt, $$\n",
    "\n",
    "or PD controllers with an additional gravity term. Note that in this case the control signals are not decoupled anymore.\n",
    "\n",
    "$$ \\tau_i=K_{di}\\dot{e}_i+K_{pi}e_i+G'_i(q) $$"
   ]
  },
  {
   "cell_type": "markdown",
   "metadata": {},
   "source": [
    "## Numerical results\n",
    "\n",
    "### Robot arm example\n",
    "\n",
    "As an example of a 2DOF robot with the structure as in the Dynamic Model laboratory, consider the robot from figure below, that we model using eq(10.1).\n",
    "\n",
    "The parameters are (either measured or estimated) :$L_1=0.095 \\ m$, $L_2=0.1 \\ m$, $m_1=0.095 \\ kg$, $m_2=0.37\\ kg$, $g=9.81 \\ m/s^2$, $I_{1x}=2.27 \\ 10^{-2} \\ kg \\ m^2$, $I_{2y}=2.27 \\ 10{-2} \\ kg \\ m^2$, $b_1=0.24$, $b_2=0.16$, $r=1$. The torque control signal is limited to the range $[-1.18,1.18] \\, Nm$.\n",
    "\n",
    "<center>\n",
    "    <figure class=\"image\">\n",
    "      <img src=\"../artwork/control/Control_4.png\" width=40% />\n",
    "      <figcaption>Real robot arm process  </figcaption>\n",
    "    </figure>\n",
    "</center>"
   ]
  },
  {
   "cell_type": "markdown",
   "metadata": {},
   "source": [
    "### Independent Joint Control\n",
    "\n",
    "Here we will design PD controller for independent joint controller\n",
    "\n",
    "$$\n",
    "\\tau_1=K_{d1}\\dot{e}_1+K_{p1}e_1,\n",
    "\\tau_2=K_{d2}\\dot{e}_2+K_{p2}e_2, \n",
    "$$\n",
    "\n",
    "for the robot process eq(10.1), with the parameters given in previous section. We will use the formula eq(7.5), with $B=0, J_{p1}=0.0263$,$J_{p2}=0.0236$, $\\zeta=1$, $K=1$. We started from a value for $\\omega_n=\\omega_{n1}=\\omega_{n2}$ of 0.1, an increased it until the step response of the closed loop system is fast enough, and the control torques reach saturation for a small time interval. In the end, a value of $12$ provided good enough results.\n",
    "\n",
    "Figure 10.5 shows simulations results of the closed loop system with step reference signals, while Figure 10.6 shows the control torques. The results show that a small steady state is present. This can be eliminated by adding a gravity term as in eq(10.10). The results with PD+gravity control are shown in Figure 10.7. It can be noticed that now the steady state error is zero. Note that in the case of PD+gravity controller, the controller is no longer joint independent, due to the gravity terms that contain expressions in both joint variables $q_1$ and $q_2$.\n",
    "\n",
    "A more interesting and demanding tracking scenario is that when the reference signals are sinusoidal ($q_r(t)=sin(t)$), which is shown Figure 10.8 for the PD+gravity controllers. Although the steady state error is now exactly zero, because the reference continuously changes, the error is kept into very small limits.  \n",
    "\n",
    "<center>\n",
    "    <figure class=\"image\">\n",
    "      <img src=\"../artwork/control/Control_5.png\" width=70% />\n",
    "      <figcaption>Simulations with PD independent joint control - step response </figcaption>\n",
    "    </figure>\n",
    "</center>\n",
    "\n",
    "<center>\n",
    "    <figure class=\"image\">\n",
    "      <img src=\"../artwork/control/Control_6.png\" width=70% />\n",
    "      <figcaption>Control torques for PD independent joint control  </figcaption>\n",
    "    </figure>\n",
    "</center>\n",
    "\n",
    "<center>\n",
    "    <figure class=\"image\">\n",
    "      <img src=\"../artwork/control/Control_7.png\" width=70% />\n",
    "      <figcaption>Simulations with PD+Gravity joint control - step response  </figcaption>\n",
    "    </figure>\n",
    "</center>\n",
    "\n",
    "<center>\n",
    "    <figure class=\"image\">\n",
    "      <img src=\"../artwork/control/Control_8.png\" width=70% />\n",
    "      <figcaption>Simulations with PD+Gravity joint control - sinusoidal response </figcaption>\n",
    "    </figure>\n",
    "</center>"
   ]
  }
 ],
 "metadata": {
  "kernelspec": {
   "display_name": "Python 3 (ipykernel)",
   "language": "python",
   "name": "python3"
  },
  "language_info": {
   "codemirror_mode": {
    "name": "ipython",
    "version": 3
   },
   "file_extension": ".py",
   "mimetype": "text/x-python",
   "name": "python",
   "nbconvert_exporter": "python",
   "pygments_lexer": "ipython3",
   "version": "3.7.6"
  },
  "varInspector": {
   "cols": {
    "lenName": 16,
    "lenType": 16,
    "lenVar": 40
   },
   "kernels_config": {
    "python": {
     "delete_cmd_postfix": "",
     "delete_cmd_prefix": "del ",
     "library": "var_list.py",
     "varRefreshCmd": "print(var_dic_list())"
    },
    "r": {
     "delete_cmd_postfix": ") ",
     "delete_cmd_prefix": "rm(",
     "library": "var_list.r",
     "varRefreshCmd": "cat(var_dic_list()) "
    }
   },
   "types_to_exclude": [
    "module",
    "function",
    "builtin_function_or_method",
    "instance",
    "_Feature"
   ],
   "window_display": false
  }
 },
 "nbformat": 4,
 "nbformat_minor": 4
}
